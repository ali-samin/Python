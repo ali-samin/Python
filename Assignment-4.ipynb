{
 "cells": [
  {
   "cell_type": "markdown",
   "id": "e2a1b926",
   "metadata": {},
   "source": [
    "#### Q1. Create a python program to sort the given list of tuples based on integer value using a lambda function."
   ]
  },
  {
   "cell_type": "code",
   "execution_count": 3,
   "id": "9d282c9d",
   "metadata": {},
   "outputs": [
    {
     "name": "stdout",
     "output_type": "stream",
     "text": [
      "('Virat Kohli', 24936)\n",
      "('Jack Kallis', 25534)\n",
      "('Ricky Ponting', 27483)\n",
      "('Sachin Tendulkar', 34357)\n"
     ]
    }
   ],
   "source": [
    "# Given list of tuples\n",
    "data = [('Sachin Tendulkar', 34357), ('Ricky Ponting', 27483), ('Jack Kallis', 25534), ('Virat Kohli', 24936)]\n",
    "\n",
    "sorted_data = sorted(data, key=lambda x: x[1])\n",
    "\n",
    "for item in sorted_data:\n",
    "    print(item)"
   ]
  },
  {
   "cell_type": "markdown",
   "id": "51b74215",
   "metadata": {},
   "source": [
    "#### Q2. Write a Python Program to find the squares of all the numbers in the given list of integers using lambda and map functions. [1, 2, 3, 4, 5, 6, 7, 8, 9, 10]"
   ]
  },
  {
   "cell_type": "code",
   "execution_count": 4,
   "id": "aa223145",
   "metadata": {},
   "outputs": [
    {
     "data": {
      "text/plain": [
       "[1, 4, 9, 16, 25, 36, 49, 64, 81, 100]"
      ]
     },
     "execution_count": 4,
     "metadata": {},
     "output_type": "execute_result"
    }
   ],
   "source": [
    "l = [1, 2, 3, 4, 5, 6, 7, 8, 9, 10]\n",
    "list(map(lambda x : x**2, l))"
   ]
  },
  {
   "cell_type": "markdown",
   "id": "ba8800a5",
   "metadata": {},
   "source": [
    "#### Q3. Write a python program to convert the given list of integers into a tuple of strings. Use map and lambda functions Given String: [1, 2, 3, 4, 5, 6, 7, 8, 9, 10] Expected output: ('1', '2', '3', '4', '5', '6', '7', '8', '9', '10')"
   ]
  },
  {
   "cell_type": "code",
   "execution_count": 5,
   "id": "3aec356e",
   "metadata": {},
   "outputs": [
    {
     "name": "stdout",
     "output_type": "stream",
     "text": [
      "('1', '2', '3', '4', '5', '6', '7', '8', '9', '10')\n"
     ]
    }
   ],
   "source": [
    "numbers = [1, 2, 3, 4, 5, 6, 7, 8, 9, 10]\n",
    "\n",
    "# Convert the list of integers to a tuple of strings using map and lambda functions\n",
    "string_tuple = tuple(map(lambda x: str(x), numbers))\n",
    "\n",
    "print(string_tuple)"
   ]
  },
  {
   "cell_type": "markdown",
   "id": "6c928e2d",
   "metadata": {},
   "source": [
    "#### Q4. Write a python program using reduce function to compute the product of a list containing numbers from 1 to 25."
   ]
  },
  {
   "cell_type": "code",
   "execution_count": 6,
   "id": "d372a5ae",
   "metadata": {},
   "outputs": [
    {
     "name": "stdout",
     "output_type": "stream",
     "text": [
      "15511210043330985984000000\n"
     ]
    }
   ],
   "source": [
    "from functools import reduce\n",
    "\n",
    "# Generate the list of numbers from 1 to 25\n",
    "numbers = list(range(1, 26))\n",
    "\n",
    "product = reduce(lambda x, y: x * y, numbers)\n",
    "\n",
    "print(product)"
   ]
  },
  {
   "cell_type": "markdown",
   "id": "08be1213",
   "metadata": {},
   "source": [
    "#### Q5. Write a python program to filter the numbers in a given list that are divisible by 2 and 3 using the filter function. [2, 3, 6, 9, 27, 60, 90, 120, 55, 46]"
   ]
  },
  {
   "cell_type": "code",
   "execution_count": 7,
   "id": "e6980875",
   "metadata": {},
   "outputs": [
    {
     "name": "stdout",
     "output_type": "stream",
     "text": [
      "[6, 60, 90, 120]\n"
     ]
    }
   ],
   "source": [
    "numbers = [2, 3, 6, 9, 27, 60, 90, 120, 55, 46]\n",
    "\n",
    "filtered_numbers = list(filter(lambda x: x % 2 == 0 and x % 3 == 0, numbers))\n",
    "\n",
    "print(filtered_numbers)"
   ]
  },
  {
   "cell_type": "markdown",
   "id": "0a4883ce",
   "metadata": {},
   "source": [
    "#### Q6. Write a python program to find palindromes in the given list of strings using lambda and filter function. ['python', 'php', 'aba', 'radar', 'level']"
   ]
  },
  {
   "cell_type": "code",
   "execution_count": 8,
   "id": "391b02c6",
   "metadata": {},
   "outputs": [
    {
     "name": "stdout",
     "output_type": "stream",
     "text": [
      "['php', 'aba', 'radar', 'level']\n"
     ]
    }
   ],
   "source": [
    "strings = ['python', 'php', 'aba', 'radar', 'level']\n",
    "\n",
    "palindromes = list(filter(lambda x: x == x[::-1], strings))\n",
    "\n",
    "print(palindromes)"
   ]
  },
  {
   "cell_type": "code",
   "execution_count": null,
   "id": "abe28643",
   "metadata": {},
   "outputs": [],
   "source": []
  }
 ],
 "metadata": {
  "kernelspec": {
   "display_name": "Python 3 (ipykernel)",
   "language": "python",
   "name": "python3"
  },
  "language_info": {
   "codemirror_mode": {
    "name": "ipython",
    "version": 3
   },
   "file_extension": ".py",
   "mimetype": "text/x-python",
   "name": "python",
   "nbconvert_exporter": "python",
   "pygments_lexer": "ipython3",
   "version": "3.9.12"
  }
 },
 "nbformat": 4,
 "nbformat_minor": 5
}
