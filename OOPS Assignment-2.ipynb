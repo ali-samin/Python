{
 "cells": [
  {
   "cell_type": "markdown",
   "id": "1aad664f",
   "metadata": {},
   "source": [
    "### Q1. What is Abstraction in OOps? Explain with an example."
   ]
  },
  {
   "cell_type": "markdown",
   "id": "46184eb9",
   "metadata": {},
   "source": [
    "Abstraction in object-oriented programming (OOP) is the process of simplifying complex systems by representing only the essential features while hiding unnecessary details. It focuses on capturing the behavior and characteristics of objects relevant to a particular context, without exposing the underlying implementation.\n",
    "\n",
    "In OOP, abstraction is achieved through the creation of abstract classes or interfaces. An abstract class is a class that cannot be instantiated and serves as a blueprint for other classes. It contains one or more abstract methods, which are declared but have no implementation in the abstract class. Subclasses of the abstract class are responsible for implementing the abstract methods."
   ]
  },
  {
   "cell_type": "code",
   "execution_count": 7,
   "id": "ce5d38c5",
   "metadata": {},
   "outputs": [],
   "source": [
    "import abc\n",
    "class pwskills:\n",
    "    \n",
    "    @abc.abstractmethod\n",
    "    def students_details(self):\n",
    "        pass\n",
    "    \n",
    "    @abc.abstractmethod\n",
    "    def student_assignment(self):\n",
    "        pass\n",
    "    \n",
    "    @abc.abstractmethod\n",
    "    def student_marks(self):\n",
    "        pass"
   ]
  },
  {
   "cell_type": "code",
   "execution_count": 8,
   "id": "f5233d68",
   "metadata": {},
   "outputs": [],
   "source": [
    "class student_details(pwskills):\n",
    "    \n",
    "    def students_details(self):\n",
    "        return \"This is a method for taking student details\"\n",
    "    \n",
    "    def student_assignment(self):\n",
    "        return \"This is a method for assignment details for aparticular student\""
   ]
  },
  {
   "cell_type": "code",
   "execution_count": 9,
   "id": "b35d508c",
   "metadata": {},
   "outputs": [],
   "source": [
    "class data_science_master(pwskills):\n",
    "    \n",
    "    def students_details(self):\n",
    "        return \"This will return a student details for a data science masters\"\n",
    "    \n",
    "    def student_assignment(self):\n",
    "        return \"This will give you a student assignment details for data science masters\""
   ]
  },
  {
   "cell_type": "code",
   "execution_count": 10,
   "id": "3208e25d",
   "metadata": {},
   "outputs": [
    {
     "data": {
      "text/plain": [
       "'This will return a student details for a data science masters'"
      ]
     },
     "execution_count": 10,
     "metadata": {},
     "output_type": "execute_result"
    }
   ],
   "source": [
    "dsm = data_science_master()\n",
    "dsm.students_details()"
   ]
  },
  {
   "cell_type": "code",
   "execution_count": 11,
   "id": "cf10b695",
   "metadata": {},
   "outputs": [
    {
     "data": {
      "text/plain": [
       "'This is a method for taking student details'"
      ]
     },
     "execution_count": 11,
     "metadata": {},
     "output_type": "execute_result"
    }
   ],
   "source": [
    "sd = student_details()\n",
    "sd.students_details()"
   ]
  },
  {
   "cell_type": "markdown",
   "id": "242d0ea2",
   "metadata": {},
   "source": [
    "."
   ]
  },
  {
   "cell_type": "markdown",
   "id": "6599fee5",
   "metadata": {},
   "source": [
    "### Q2. Differentiate between Abstraction and Encapsulation. Explain with an example."
   ]
  },
  {
   "cell_type": "markdown",
   "id": "e028eab0",
   "metadata": {},
   "source": [
    "\n",
    "Abstraction and encapsulation are both important concepts in object-oriented programming (OOP), but they serve different purposes. Let's differentiate between the two and provide an example for each:\n",
    "\n",
    "Abstraction:\n",
    "\n",
    "1. Abstraction focuses on simplifying complex systems by representing only the essential features while hiding unnecessary details.\n",
    "2. It emphasizes what an object does rather than how it does it.\n",
    "3. Abstraction is achieved through the use of abstract classes and interfaces, which provide a common structure and behavior that can be inherited by subclasses.\n",
    "4. It allows us to create a unified interface for interacting with objects of different classes.\n",
    "5. Abstraction helps in achieving code modularity, reusability, and flexibility.\n",
    "\n",
    "Encapsulation:\n",
    "\n",
    "1. Encapsulation is the bundling of data (attributes) and methods (functions) within a class, hiding the internal details and providing a public interface for interaction.\n",
    "2. It ensures that the internal state of an object is protected from external access and manipulation.\n",
    "3. Encapsulation helps in achieving data abstraction and data hiding, improving code maintainability, and reducing dependencies between different parts of a program."
   ]
  },
  {
   "cell_type": "markdown",
   "id": "32b9af60",
   "metadata": {},
   "source": [
    "Abstraction:"
   ]
  },
  {
   "cell_type": "code",
   "execution_count": 12,
   "id": "28d75a3d",
   "metadata": {},
   "outputs": [],
   "source": [
    "from abc import ABC, abstractmethod\n",
    "\n",
    "class Animal(ABC):\n",
    "    @abstractmethod\n",
    "    def make_sound(self):\n",
    "        pass\n",
    "\n",
    "class Dog(Animal):\n",
    "    def make_sound(self):\n",
    "        print(\"Dog barks: Woof!\")\n",
    "\n",
    "class Cat(Animal):\n",
    "    def make_sound(self):\n",
    "        print(\"Cat meows: Meow!\")"
   ]
  },
  {
   "cell_type": "code",
   "execution_count": 13,
   "id": "9468d58a",
   "metadata": {},
   "outputs": [
    {
     "name": "stdout",
     "output_type": "stream",
     "text": [
      "Dog barks: Woof!\n"
     ]
    }
   ],
   "source": [
    "dog = Dog()\n",
    "dog.make_sound()"
   ]
  },
  {
   "cell_type": "code",
   "execution_count": 14,
   "id": "91d87223",
   "metadata": {},
   "outputs": [
    {
     "name": "stdout",
     "output_type": "stream",
     "text": [
      "Cat meows: Meow!\n"
     ]
    }
   ],
   "source": [
    "cat = Cat()\n",
    "cat.make_sound()"
   ]
  },
  {
   "cell_type": "markdown",
   "id": "5009ee23",
   "metadata": {},
   "source": [
    "Encapsulation:"
   ]
  },
  {
   "cell_type": "code",
   "execution_count": 15,
   "id": "f7ca46ca",
   "metadata": {},
   "outputs": [],
   "source": [
    "class bank_account:\n",
    "\n",
    "    def __init__(self, balance):\n",
    "        self.__balanance = balance\n",
    "        \n",
    "        \n",
    "    def deposite(self, amount):\n",
    "        self.__balanance = self.__balanance + amount\n",
    "        \n",
    "    def withdraw(self, amount):\n",
    "        if self.__balanance >= amount:\n",
    "            self.__balanance = self.__balanance - amount\n",
    "            return True\n",
    "        else:\n",
    "            return False\n",
    "    \n",
    "    def get_balanance(self):\n",
    "        return self.__balanance"
   ]
  },
  {
   "cell_type": "code",
   "execution_count": 16,
   "id": "8e09d277",
   "metadata": {},
   "outputs": [],
   "source": [
    "mark = bank_account(1000)"
   ]
  },
  {
   "cell_type": "code",
   "execution_count": 17,
   "id": "209d9936",
   "metadata": {},
   "outputs": [
    {
     "data": {
      "text/plain": [
       "1000"
      ]
     },
     "execution_count": 17,
     "metadata": {},
     "output_type": "execute_result"
    }
   ],
   "source": [
    "mark.get_balanance()"
   ]
  },
  {
   "cell_type": "code",
   "execution_count": 18,
   "id": "b8ef6465",
   "metadata": {},
   "outputs": [],
   "source": [
    "mark.deposite(5000)"
   ]
  },
  {
   "cell_type": "code",
   "execution_count": 19,
   "id": "c0c7b9f8",
   "metadata": {},
   "outputs": [
    {
     "data": {
      "text/plain": [
       "6000"
      ]
     },
     "execution_count": 19,
     "metadata": {},
     "output_type": "execute_result"
    }
   ],
   "source": [
    "mark.get_balanance()"
   ]
  },
  {
   "cell_type": "code",
   "execution_count": 20,
   "id": "87ef8f11",
   "metadata": {},
   "outputs": [
    {
     "data": {
      "text/plain": [
       "6000"
      ]
     },
     "execution_count": 20,
     "metadata": {},
     "output_type": "execute_result"
    }
   ],
   "source": [
    "mark.get_balanance()"
   ]
  },
  {
   "cell_type": "code",
   "execution_count": 22,
   "id": "07e557fa",
   "metadata": {},
   "outputs": [
    {
     "data": {
      "text/plain": [
       "False"
      ]
     },
     "execution_count": 22,
     "metadata": {},
     "output_type": "execute_result"
    }
   ],
   "source": [
    "mark.withdraw(9000)"
   ]
  },
  {
   "cell_type": "code",
   "execution_count": 24,
   "id": "0cf82810",
   "metadata": {},
   "outputs": [
    {
     "data": {
      "text/plain": [
       "True"
      ]
     },
     "execution_count": 24,
     "metadata": {},
     "output_type": "execute_result"
    }
   ],
   "source": [
    "mark.withdraw(2000)"
   ]
  },
  {
   "cell_type": "code",
   "execution_count": 25,
   "id": "f6dd5204",
   "metadata": {},
   "outputs": [
    {
     "data": {
      "text/plain": [
       "4000"
      ]
     },
     "execution_count": 25,
     "metadata": {},
     "output_type": "execute_result"
    }
   ],
   "source": [
    "mark.get_balanance()"
   ]
  },
  {
   "cell_type": "markdown",
   "id": "61463dd8",
   "metadata": {},
   "source": [
    "."
   ]
  },
  {
   "cell_type": "markdown",
   "id": "62dccc2d",
   "metadata": {},
   "source": [
    "### Q3. What is abc module in python? Why is it used?"
   ]
  },
  {
   "cell_type": "markdown",
   "id": "f62ed18c",
   "metadata": {},
   "source": [
    "In Python, the abc module stands for \"Abstract Base Classes.\" It provides a way to define abstract classes and interfaces in Python. An abstract class is a class that cannot be instantiated and is meant to be subclassed by concrete classes. \n",
    "\n",
    "The abc module is used for the following purposes:\n",
    "\n",
    "1. Defining Abstract Base Classes (ABCs): The abc module provides the ABC class, which is used as a base class for creating abstract classes. Abstract classes can define abstract methods, which are declared but have no implementation in the abstract class itself. Concrete subclasses of the abstract class are responsible for implementing the abstract methods. The abc module helps enforce the implementation of these abstract methods in the concrete subclasses.\n",
    "\n",
    "2. Creating Interfaces: The abc module also provides the ABC class as a base class for creating interfaces. An interface defines a contract of methods that must be implemented by any class that claims to implement the interface"
   ]
  },
  {
   "cell_type": "markdown",
   "id": "81eaae7c",
   "metadata": {},
   "source": [
    "."
   ]
  },
  {
   "cell_type": "markdown",
   "id": "643f62bc",
   "metadata": {},
   "source": [
    "### Q4. How can we achieve data abstraction?"
   ]
  },
  {
   "cell_type": "markdown",
   "id": "b01a8993",
   "metadata": {},
   "source": [
    "To achieve data abstraction in object-oriented programming, follow these steps:\n",
    "\n",
    "Define an Abstract Class or Interface: Create an abstract class using the ABC class from the abc module, or define an interface by extending the ABC class. An abstract class cannot be instantiated and may contain abstract methods, while an interface defines a contract of methods that must be implemented by any class that claims to implement the interface.\n",
    "\n",
    "Declare Abstract Methods: Within the abstract class or interface, declare the abstract methods using the @abstractmethod decorator. Abstract methods are declared without any implementation in the abstract class or interface itself.\n",
    "\n",
    "Create Concrete Classes: Create concrete classes that inherit from the abstract class or implement the interface. Concrete classes are responsible for implementing the abstract methods declared in the abstract class or interface. These concrete classes provide the specific implementation details of the abstract methods.\n",
    "\n",
    "Interact with Objects: In your code, interact with objects of the concrete classes through the abstract class or interface. This allows you to access and manipulate the essential attributes and behaviors defined in the abstract class or interface, without worrying about the specific implementation details."
   ]
  },
  {
   "cell_type": "markdown",
   "id": "7e4ecf98",
   "metadata": {},
   "source": [
    "."
   ]
  },
  {
   "cell_type": "markdown",
   "id": "8787b1ba",
   "metadata": {},
   "source": [
    "### Q5. Can we create an instance of an abstract class? Explain your answer."
   ]
  },
  {
   "cell_type": "markdown",
   "id": "de298859",
   "metadata": {},
   "source": [
    "\n",
    "No, we cannot create an instance of an abstract class. Abstract classes in object-oriented programming are designed to be incomplete and act as blueprints for subclasses to inherit from. They are meant to be extended and implemented by concrete subclasses.\n",
    "\n",
    "Abstract classes contain one or more abstract methods, which are methods declared without any implementation. These abstract methods must be implemented by the concrete subclasses that inherit from the abstract class."
   ]
  },
  {
   "cell_type": "code",
   "execution_count": null,
   "id": "f3ab6418",
   "metadata": {},
   "outputs": [],
   "source": []
  }
 ],
 "metadata": {
  "kernelspec": {
   "display_name": "Python 3 (ipykernel)",
   "language": "python",
   "name": "python3"
  },
  "language_info": {
   "codemirror_mode": {
    "name": "ipython",
    "version": 3
   },
   "file_extension": ".py",
   "mimetype": "text/x-python",
   "name": "python",
   "nbconvert_exporter": "python",
   "pygments_lexer": "ipython3",
   "version": "3.9.12"
  }
 },
 "nbformat": 4,
 "nbformat_minor": 5
}
