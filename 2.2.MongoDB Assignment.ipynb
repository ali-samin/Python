{
 "cells": [
  {
   "cell_type": "markdown",
   "id": "d15ec9a0",
   "metadata": {},
   "source": [
    "### Q1. What is MongoDB? Explain non-relational databases in short. In which scenarios it is preferred to use MongoDB over SQL databases?"
   ]
  },
  {
   "cell_type": "markdown",
   "id": "6751bdb6",
   "metadata": {},
   "source": [
    "MongoDB is a popular open-source NoSQL (non-relational) database management system that provides a flexible, scalable, and document-oriented approach to storing and managing data. It is designed to handle unstructured and semi-structured data, making it well-suited for modern application development."
   ]
  },
  {
   "cell_type": "markdown",
   "id": "be4c17c0",
   "metadata": {},
   "source": [
    "Non-relational databases, also known as NoSQL database:\n",
    "\n",
    "Schema Flexibility: NoSQL databases allow flexible schemas, meaning that each record (document) can have its own structure without adhering to a fixed schema. This flexibility is beneficial when dealing with data that may have varying attributes or structures.\n",
    "\n",
    "Scalability: NoSQL databases are designed to scale horizontally by distributing data across multiple servers, allowing for seamless handling of large amounts of data and high traffic loads. They provide excellent scalability compared to SQL databases, which typically scale vertically by adding more resources to a single server.\n",
    "\n",
    "High Performance: NoSQL databases optimize data access and retrieval for specific use cases, often providing high-speed read and write operations. They can handle high volumes of concurrent transactions efficiently.\n",
    "\n",
    "Data Model Variety: NoSQL databases support various data models, such as key-value, document, columnar, and graph databases. This versatility allows developers to choose the most suitable data model based on the nature of their data and the requirements of their application."
   ]
  },
  {
   "cell_type": "markdown",
   "id": "7e61add7",
   "metadata": {},
   "source": [
    "Scenarios where MongoDB is preferred over SQL databases:"
   ]
  },
  {
   "cell_type": "markdown",
   "id": "2871aa74",
   "metadata": {},
   "source": [
    "1. Flexible Data Structures: When dealing with data that doesn't have a fixed or predefined schema, MongoDB's document-oriented model shines. It allows you to store and retrieve data without rigid schema constraints, making it ideal for applications with evolving or unpredictable data structures.\n",
    "\n",
    "2. Scalability and High Performance: MongoDB's architecture supports horizontal scaling, allowing it to handle large amounts of data and high traffic loads. It excels in scenarios where you need to scale your application quickly and handle rapid data growth.\n",
    "\n",
    "3. Real-Time Analytics and Data Processing: MongoDB's ability to handle large volumes of real-time data makes it a good choice for applications that require real-time analytics, data streaming, and fast data processing.\n",
    "\n",
    "4. Agile Development: MongoDB's flexible schema and document-based model enable agile development practices, as changes to the data structure can be easily accommodated without requiring extensive migrations.\n",
    "\n",
    "5. Prototyping and Rapid Development: MongoDB's ease of use, flexibility, and developer-friendly interface make it a popular choice for prototyping and rapid application development, especially in scenarios where the data requirements are still evolving.\n",
    "\n",
    "6. It's important to note that the choice between MongoDB and SQL databases depends on the specific needs and characteristics of your project or application. SQL databases excel in applications that require complex querying, strong consistency, and structured data, while MongoDB and other NoSQL databases are often preferred when dealing with unstructured data, scalability, flexibility, and speed are critical factors."
   ]
  },
  {
   "cell_type": "markdown",
   "id": "c788411e",
   "metadata": {},
   "source": [
    "."
   ]
  },
  {
   "cell_type": "markdown",
   "id": "e0e7b009",
   "metadata": {},
   "source": [
    "### Q2. State and Explain the features of MongoDB."
   ]
  },
  {
   "cell_type": "markdown",
   "id": "4487caf5",
   "metadata": {},
   "source": [
    "MongoDB is a NoSQL database management system. Here's a brief explanation of its key features:"
   ]
  },
  {
   "cell_type": "markdown",
   "id": "6eaa9e29",
   "metadata": {},
   "source": [
    "\n",
    "\n",
    "Document-Oriented: MongoDB stores data in flexible, JSON-like documents, enabling easy representation and storage of complex data structures.\n",
    "\n",
    "Scalability: MongoDB supports horizontal scaling, allowing it to handle large amounts of data and high traffic loads by distributing data across multiple servers or clusters.\n",
    "\n",
    "Dynamic Schema: MongoDB offers a flexible schema, enabling on-the-fly changes to the document structure without requiring upfront schema design or migrations.\n",
    "\n",
    "Indexing and Querying: MongoDB supports various types of indexes for efficient data retrieval. It provides a powerful query language with rich operators and expressions for querying data.\n",
    "\n",
    "Replication and High Availability: MongoDB's replica sets automatically replicate data across multiple servers, ensuring data redundancy and high availability.\n",
    "\n",
    "Aggregation Framework: MongoDB's aggregation framework allows for complex data aggregation, grouping, and transformation operations.\n",
    "\n",
    "GridFS: MongoDB includes GridFS for storing and retrieving large files that exceed the BSON document size limit, making it suitable for managing multimedia content.\n",
    "\n",
    "Native Language Drivers: MongoDB provides official native language drivers for seamless integration with various programming languages."
   ]
  },
  {
   "cell_type": "markdown",
   "id": "0d507edb",
   "metadata": {},
   "source": [
    "."
   ]
  },
  {
   "cell_type": "markdown",
   "id": "0e60a2a3",
   "metadata": {},
   "source": [
    "### Q3. Write a code to connect MongoDB to Python. Also, create a database and a collection in MongoDB."
   ]
  },
  {
   "cell_type": "markdown",
   "id": "29da665b",
   "metadata": {},
   "source": [
    "first you have to install the llibrary pymongo using pip in python\n",
    "#### pip install pymongo"
   ]
  },
  {
   "cell_type": "code",
   "execution_count": null,
   "id": "25808bfc",
   "metadata": {},
   "outputs": [],
   "source": [
    "import pymongo\n",
    "\n",
    "# establish connection using url\n",
    "client = pymongo.MongoClient(\"mongodb+srv://alisamin:<password>@cluster0.u2iznea.mongodb.net/?retryWrites=true&w=majority\")\n",
    "\n",
    "# create a databasse 'mdatabase'\n",
    "mydb = client[\"mydatabase\"]\n",
    "\n",
    "# create collection \n",
    "mycol = mydb[\"customers\"]\n",
    "\n",
    "# creates record inside the collection\n",
    "data = {\"name\": \"John\", \"age\": 30, \"city\": \"New York\"}\n",
    "mycol.insert_one(data)\n",
    "\n",
    "\n",
    "# close connection\n",
    "client.close()"
   ]
  },
  {
   "cell_type": "markdown",
   "id": "5afd8a72",
   "metadata": {},
   "source": [
    "."
   ]
  },
  {
   "cell_type": "markdown",
   "id": "d40a4004",
   "metadata": {},
   "source": [
    "### Q4. Using the database and the collection created in question number 3, write a code to insert one record, and insert many records. Use the find() and find_one() methods to print the inserted record."
   ]
  },
  {
   "cell_type": "code",
   "execution_count": null,
   "id": "87a76cf8",
   "metadata": {},
   "outputs": [],
   "source": [
    "import pymongo\n",
    "\n",
    "# establish connection using url\n",
    "client = pymongo.MongoClient(\"mongodb+srv://alisamin:<password>@cluster0.u2iznea.mongodb.net/?retryWrites=true&w=majority\")\n",
    "\n",
    "# create a databasse 'mdatabase'\n",
    "mydb = client[\"mydatabase\"]\n",
    "\n",
    "# create collection \n",
    "mycol = mydb[\"customers\"]\n",
    "\n",
    "# Insert one record\n",
    "data_one = {\"name\": \"John\", \"age\": 30, \"city\": \"New York\"}\n",
    "mycol.insert_one(data_one)\n",
    "\n",
    "# Insert multiple records\n",
    "data_many = [\n",
    "    {\"name\": \"john\", \"age\": 32, \"city\": \"Paris\"},\n",
    "    {\"name\": \"rohit\", \"age\": 28, \"city\": \"London\"},\n",
    "    {\"name\": \"zama\", \"age\": 30, \"city\": \"Turkey\"}\n",
    "]\n",
    "mycol.insert_many(data_many)\n",
    "\n",
    "\n",
    "# Print the inserted record using find_one()\n",
    "print(\"Inserted record (find_one()):\")\n",
    "mycol.find_one()\n",
    "\n",
    "\n",
    "# print multiple records using find()\n",
    "for record in mycol.find():\n",
    "    print(record)\n",
    "    \n",
    "    \n",
    "# close connection\n",
    "client.close()"
   ]
  },
  {
   "cell_type": "markdown",
   "id": "394633b4",
   "metadata": {},
   "source": [
    "."
   ]
  },
  {
   "cell_type": "markdown",
   "id": "999508d7",
   "metadata": {},
   "source": [
    "### Q5. Explain how you can use the find() method to query the MongoDB database. Write a simple code to demonstrate this."
   ]
  },
  {
   "cell_type": "markdown",
   "id": "e893c29c",
   "metadata": {},
   "source": [
    "The find() method in MongoDB allows you to query the database and retrieve documents that match specified criteria. It provides a flexible and powerful way to search for data based on various conditions."
   ]
  },
  {
   "cell_type": "markdown",
   "id": "364fee4d",
   "metadata": {},
   "source": [
    "The find() method accepts a query filter as its parameter, which specifies the criteria for matching documents."
   ]
  },
  {
   "cell_type": "markdown",
   "id": "f5b67289",
   "metadata": {},
   "source": [
    "The find() method supports sorting the result set based on one or more fields in ascending or descending order. This is achieved by providing a sort parameter with the field name(s) and the sorting order"
   ]
  },
  {
   "cell_type": "code",
   "execution_count": null,
   "id": "443bdbb0",
   "metadata": {},
   "outputs": [],
   "source": [
    "import pymongo\n",
    "\n",
    "# establish connection using url\n",
    "client = pymongo.MongoClient(\"mongodb+srv://alisamin:<password>@cluster0.u2iznea.mongodb.net/?retryWrites=true&w=majority\")\n",
    "\n",
    "# create a databasse 'mdatabase'\n",
    "mydb = client[\"mydatabase\"]\n",
    "\n",
    "# create collection \n",
    "mycol = mydb[\"customers\"]\n",
    "\n",
    "# creates record inside the collection\n",
    "data = {\"name\": \"John\", \"age\": 30, \"city\": \"New York\"}\n",
    "mycol.insert_one(data)\n",
    "\n",
    "#find only one record the record\n",
    "mycol.find_one()\n",
    "\n",
    "# close connection\n",
    "client.close()"
   ]
  },
  {
   "cell_type": "markdown",
   "id": "fd173572",
   "metadata": {},
   "source": [
    "."
   ]
  },
  {
   "cell_type": "markdown",
   "id": "1717e6a9",
   "metadata": {},
   "source": [
    "### Q6. Explain the sort() method. Give an example to demonstrate sorting in MongoDB."
   ]
  },
  {
   "cell_type": "markdown",
   "id": "9718a8d2",
   "metadata": {},
   "source": [
    "The sort() method in MongoDB is used to sort the documents in a result set based on one or more fields. It allows you to specify the sorting order, either in ascending (1) or descending (-1) order, for each field."
   ]
  },
  {
   "cell_type": "markdown",
   "id": "f857191e",
   "metadata": {},
   "source": [
    "Sorting by a Single Field:\n",
    "When sorting by a single field, you can use the sort() method with the field name as the parameter. By default, it sorts the documents in ascending order."
   ]
  },
  {
   "cell_type": "code",
   "execution_count": null,
   "id": "4e15a22e",
   "metadata": {},
   "outputs": [],
   "source": [
    "# Example\n",
    "\n",
    "import pymongo\n",
    "\n",
    "# make connection\n",
    "client = pymongo.MongoClient(\"\"mongodb+srv://alisamin:<password>@cluster0.u2iznea.mongodb.net/?retryWrites=true&w=majority\"\")\n",
    "mydb = client[\"mydatabase\"]\n",
    "mycol = mydb[\"customers\"]\n",
    "\n",
    "# Sort documents by the \"name\"\n",
    "result = mycol.find().sort(\"name\")\n",
    "\n",
    "for i in result:\n",
    "    print(i)\n",
    "\n",
    "# Close the connection\n",
    "client.close()"
   ]
  },
  {
   "cell_type": "markdown",
   "id": "3eaf88c3",
   "metadata": {},
   "source": [
    "."
   ]
  },
  {
   "cell_type": "markdown",
   "id": "10e79ced",
   "metadata": {},
   "source": [
    "### Q7. Explain why delete_one(), delete_many(), and drop() is used."
   ]
  },
  {
   "cell_type": "markdown",
   "id": "9d1221ea",
   "metadata": {},
   "source": [
    "In MongoDB, the delete_one(), delete_many(), and drop() methods are used for deleting documents or entire collections. Each method serves a specific purpose:"
   ]
  },
  {
   "cell_type": "markdown",
   "id": "5db3a531",
   "metadata": {},
   "source": [
    "1. delete_one():\n",
    "The delete_one() method is used to delete a single document that matches a specified filter. It deletes the first document that matches the filter criteria.\n",
    "\n",
    "2. delete_many():\n",
    "The delete_many() method is used to delete multiple documents that match a specified filter. It deletes all the documents that match the filter criteria.\n",
    "\n",
    "3. drop():\n",
    "The drop() method is used to delete an entire collection from the database. It removes all the documents and indexes associated with the collection.\n"
   ]
  }
 ],
 "metadata": {
  "kernelspec": {
   "display_name": "Python 3 (ipykernel)",
   "language": "python",
   "name": "python3"
  },
  "language_info": {
   "codemirror_mode": {
    "name": "ipython",
    "version": 3
   },
   "file_extension": ".py",
   "mimetype": "text/x-python",
   "name": "python",
   "nbconvert_exporter": "python",
   "pygments_lexer": "ipython3",
   "version": "3.9.12"
  }
 },
 "nbformat": 4,
 "nbformat_minor": 5
}
