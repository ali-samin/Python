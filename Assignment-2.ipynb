{
 "cells": [
  {
   "cell_type": "markdown",
   "id": "2ed23b59",
   "metadata": {},
   "source": [
    "#### Q1 .How do you comment code in Python? What are the different types of comments"
   ]
  },
  {
   "cell_type": "raw",
   "id": "b25f7754",
   "metadata": {},
   "source": [
    "There are two main types of comments in Python: single-line comments and multi-line comments"
   ]
  },
  {
   "cell_type": "code",
   "execution_count": null,
   "id": "88b0c95b",
   "metadata": {},
   "outputs": [],
   "source": [
    "Single-line comments: Single-line comments are used to add a comment on a single line. You can use the '#' "
   ]
  },
  {
   "cell_type": "code",
   "execution_count": 4,
   "id": "a89d4295",
   "metadata": {},
   "outputs": [
    {
     "name": "stdout",
     "output_type": "stream",
     "text": [
      "Hello, World!\n"
     ]
    }
   ],
   "source": [
    "# This is a single-line comment\n",
    "print(\"Hello, World!\")  # This is also a comment"
   ]
  },
  {
   "cell_type": "raw",
   "id": "e1fdde6e",
   "metadata": {},
   "source": [
    "Multi-line-comment: If you enclose a string in triple quotes (''' or \"\"\"),\n",
    "it becomes a multi-line string and can be used as a multi-line comment."
   ]
  },
  {
   "cell_type": "code",
   "execution_count": 6,
   "id": "506b403e",
   "metadata": {},
   "outputs": [
    {
     "name": "stdout",
     "output_type": "stream",
     "text": [
      "Hello, World!\n"
     ]
    }
   ],
   "source": [
    "'''\n",
    "This is a multi-line comment.\n",
    "It can span multiple lines.\n",
    "'''\n",
    "print(\"Hello, World!\")"
   ]
  },
  {
   "cell_type": "markdown",
   "id": "fdbf7c1b",
   "metadata": {},
   "source": [
    "#### Q2. What are variables in Python? How do you declare and assign values to variables?"
   ]
  },
  {
   "cell_type": "code",
   "execution_count": null,
   "id": "5110585f",
   "metadata": {},
   "outputs": [],
   "source": [
    "In Python, variables are used to store and manipulate data. A variable is essentially a named location in\n",
    "memory where you can store a value.\n",
    "To declare and assign a value to a variable in Python, you use the following syntax:\n",
    "    variable_name = value\n",
    "Here, variable_name is the name you choose for your variable, and value is the data you want to assign to the \n",
    "variable. The equal sign (=) is the assignment operator, which assigns the value on the right to the variable on the left"
   ]
  },
  {
   "cell_type": "code",
   "execution_count": null,
   "id": "638476f8",
   "metadata": {},
   "outputs": [],
   "source": [
    "# Here are some examples of declaring and assigning values to variables in Python:\n",
    "\n",
    "# Declaring and assigning a string value to a variable\n",
    "name = \"John\"\n",
    "\n",
    "# Declaring and assigning an integer value to a variable\n",
    "age = 25\n",
    "\n",
    "# Declaring and assigning a floating-point value to a variable\n",
    "temperature = 98.6\n",
    "\n",
    "# Declaring and assigning a boolean value to a variable\n",
    "is_student = True"
   ]
  },
  {
   "cell_type": "markdown",
   "id": "571c9b5b",
   "metadata": {},
   "source": [
    "#### Q3. How do you convert one data type to another in Python?"
   ]
  },
  {
   "cell_type": "code",
   "execution_count": null,
   "id": "377b1d15",
   "metadata": {},
   "outputs": [],
   "source": [
    "In Python, you can convert one data type to another using type conversion functions or methods.\n",
    "Python provides several built-in functions that allow you to perform type conversions. Here are \n",
    "some commonly used type conversion functions:\n",
    "\n",
    "int(): Converts a value to an integer data type.\n",
    "float(): Converts a value to a floating-point data type.\n",
    "str(): Converts a value to a string data type.\n",
    "bool(): Converts a value to a boolean data type.\n",
    "list(): Converts a value to a list data type.\n",
    "tuple(): Converts a value to a tuple data type.\n",
    "set(): Converts a value to a set data type.\n",
    "dict(): Converts a value to a dictionary data type.\n",
    "\n"
   ]
  },
  {
   "cell_type": "code",
   "execution_count": null,
   "id": "2f32cb85",
   "metadata": {},
   "outputs": [],
   "source": [
    "# Example\n",
    "\n",
    "# Converting a string to an integer\n",
    "num_str = \"10\"\n",
    "num_int = int(num_str)\n",
    "print(num_int)  # Output: 10\n",
    "\n",
    "# Converting an integer to a float\n",
    "num_int = 10\n",
    "num_float = float(num_int)\n",
    "print(num_float)  # Output: 10.0\n",
    "\n",
    "# Converting a number to a string\n",
    "num = 42\n",
    "num_str = str(num)\n",
    "print(num_str)  # Output: \"42\""
   ]
  },
  {
   "cell_type": "markdown",
   "id": "d8fe4544",
   "metadata": {},
   "source": [
    "#### Q4. How do you write and execute a Python script from the command line?"
   ]
  },
  {
   "cell_type": "code",
   "execution_count": null,
   "id": "af24f47d",
   "metadata": {},
   "outputs": [],
   "source": [
    "To write and execute a Python script from the command line, follow these steps:\n",
    "\n",
    "1.Open a text editor and write your Python code.\n",
    "2.Save the file with a .py extension, such as script.py.\n",
    "3.Open a command prompt or terminal.\n",
    "4..Navigate to the directory where the Python script is saved using the cd command.\n",
    "5.Execute the script by typing python script.py and press Enter.\n",
    "6.The Python script will run, and the output (if any) will be displayed in the command prompt or terminal"
   ]
  },
  {
   "cell_type": "markdown",
   "id": "678b9cc3",
   "metadata": {},
   "source": [
    "#### Q5. Given a list my_list = [1, 2, 3, 4, 5], write the code to slice the list and obtain the sub-list [2, 3]."
   ]
  },
  {
   "cell_type": "code",
   "execution_count": 12,
   "id": "093900ea",
   "metadata": {},
   "outputs": [
    {
     "name": "stdout",
     "output_type": "stream",
     "text": [
      "[2, 3]\n"
     ]
    }
   ],
   "source": [
    "my_list=[1,2,3,4,5]\n",
    "sub_list = my_list[1:3]\n",
    "print(sub_list)"
   ]
  },
  {
   "cell_type": "markdown",
   "id": "223cad83",
   "metadata": {},
   "source": [
    "#### Q6. What is a complex number in mathematics, and how is it represented in Python?"
   ]
  },
  {
   "cell_type": "code",
   "execution_count": null,
   "id": "612403f1",
   "metadata": {},
   "outputs": [],
   "source": [
    "In mathematics, a complex number is a number that can be expressed in the form a + bi, where a and b are \n",
    "real numbers, and i is the imaginary unit defined as the square root of -1. The real part a represents the\n",
    "real number component, while the imaginary part b represents the imaginary number component.\n",
    "\n",
    "In Python, complex numbers are supported as a built-in data type. They are represented using the complex class or\n",
    "by directly specifying the real and imaginary parts in the form a + bj, where a and b are real numbers, and j is \n",
    "used to represent the imaginary unit instead of i."
   ]
  },
  {
   "cell_type": "code",
   "execution_count": 13,
   "id": "ddff5a63",
   "metadata": {},
   "outputs": [
    {
     "name": "stdout",
     "output_type": "stream",
     "text": [
      "(3+2j)\n"
     ]
    }
   ],
   "source": [
    "# Complex number with real and imaginary parts specified\n",
    "z1 = 3 + 2j\n",
    "print(z1)  # Output: (3+2j)"
   ]
  },
  {
   "cell_type": "markdown",
   "id": "97e62b19",
   "metadata": {},
   "source": [
    "#### Q7. What is the correct way to declare a variable named age and assign the value 25 to it?"
   ]
  },
  {
   "cell_type": "code",
   "execution_count": null,
   "id": "16a32d85",
   "metadata": {},
   "outputs": [],
   "source": [
    "The correct way to declare a variable named 'age' and assign the value '25' to it in Python is:\n",
    "age = 25"
   ]
  },
  {
   "cell_type": "markdown",
   "id": "aafe82eb",
   "metadata": {},
   "source": [
    "#### Q8. Declare a variable named price and assign the value 9.99 to it. What data type does this variable belong to?"
   ]
  },
  {
   "cell_type": "code",
   "execution_count": 14,
   "id": "f192c4dd",
   "metadata": {},
   "outputs": [
    {
     "data": {
      "text/plain": [
       "float"
      ]
     },
     "execution_count": 14,
     "metadata": {},
     "output_type": "execute_result"
    }
   ],
   "source": [
    "price = 9.99\n",
    "type(price)"
   ]
  },
  {
   "cell_type": "code",
   "execution_count": null,
   "id": "58a85367",
   "metadata": {},
   "outputs": [],
   "source": [
    "The value 9.99 is a floating-point number because it contains a decimal point.\n",
    "Therefore, the data type of the 'price' variable in this case would be a float."
   ]
  },
  {
   "cell_type": "markdown",
   "id": "c809f812",
   "metadata": {},
   "source": [
    "#### Q9. Create a variable named name and assign your full name to it as a string. How would you print the value of this variable?"
   ]
  },
  {
   "cell_type": "code",
   "execution_count": 16,
   "id": "f12a7d22",
   "metadata": {},
   "outputs": [
    {
     "name": "stdout",
     "output_type": "stream",
     "text": [
      "Ali Samin Raza\n"
     ]
    }
   ],
   "source": [
    "name = \"Ali Samin Raza\"\n",
    "# To print the value of the name variable, you can use the print() function:\n",
    "print(name)"
   ]
  },
  {
   "cell_type": "markdown",
   "id": "31d4781f",
   "metadata": {},
   "source": [
    "#### Q10. Given the string \"Hello, World!\", extract the substring \"World\"."
   ]
  },
  {
   "cell_type": "code",
   "execution_count": 17,
   "id": "481d9698",
   "metadata": {},
   "outputs": [
    {
     "name": "stdout",
     "output_type": "stream",
     "text": [
      "World\n"
     ]
    }
   ],
   "source": [
    "my_string = \"Hello, World!\"\n",
    "new_string = my_string[7:12]\n",
    "print(new_string)"
   ]
  },
  {
   "cell_type": "markdown",
   "id": "fbba8ff0",
   "metadata": {},
   "source": [
    "#### Q11. Create a variable named \"is_student\" and assign it a boolean value indicating whether you are currently a student or not."
   ]
  },
  {
   "cell_type": "code",
   "execution_count": null,
   "id": "2dd2b0c3",
   "metadata": {},
   "outputs": [],
   "source": [
    "Here, is_student is the variable name, and True is assigned to it. If you are currently a student, \n",
    "you can keep the value as True. If you are not a student, you can assign the value False instead:\n",
    "\n",
    "is_student = True\n",
    "is_student = False"
   ]
  }
 ],
 "metadata": {
  "kernelspec": {
   "display_name": "Python 3 (ipykernel)",
   "language": "python",
   "name": "python3"
  },
  "language_info": {
   "codemirror_mode": {
    "name": "ipython",
    "version": 3
   },
   "file_extension": ".py",
   "mimetype": "text/x-python",
   "name": "python",
   "nbconvert_exporter": "python",
   "pygments_lexer": "ipython3",
   "version": "3.9.12"
  }
 },
 "nbformat": 4,
 "nbformat_minor": 5
}
