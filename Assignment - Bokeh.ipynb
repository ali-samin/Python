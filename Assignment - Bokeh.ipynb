{
 "cells": [
  {
   "cell_type": "markdown",
   "id": "d2e86fd4",
   "metadata": {},
   "source": [
    "#### Q1. How can you create a Bokeh plot using Python code?"
   ]
  },
  {
   "cell_type": "markdown",
   "id": "534c8214",
   "metadata": {},
   "source": [
    "To create a Bokeh plot using Python, we'll need to install the Bokeh library and then use its functions and classes to generate interactive plots. Bokeh is a powerful library for creating interactive data visualizations in Python. Here are the general steps to create a simple Bokeh plot:"
   ]
  },
  {
   "cell_type": "markdown",
   "id": "4f53eb29",
   "metadata": {},
   "source": [
    "1. Import Bokeh modules:   Import the necessary modules from Bokeh, including figure to create a plot, and various tools to enhance interactivity."
   ]
  },
  {
   "cell_type": "code",
   "execution_count": null,
   "id": "7d3f4394",
   "metadata": {},
   "outputs": [],
   "source": [
    "from bokeh.plotting import figure, output_file, show"
   ]
  },
  {
   "cell_type": "markdown",
   "id": "0ea0e7ad",
   "metadata": {},
   "source": [
    "2. Create data: Prepare the data that we want to plot.we can use NumPy, Pandas, or any other data source to generate your data."
   ]
  },
  {
   "cell_type": "markdown",
   "id": "47ae29ce",
   "metadata": {},
   "source": [
    "3. Create a figure:\n",
    "Create a figure object using the figure function. we can customize the plot by specifying various attributes such as title, axis labels, and more."
   ]
  },
  {
   "cell_type": "code",
   "execution_count": null,
   "id": "2631b2b2",
   "metadata": {},
   "outputs": [],
   "source": [
    "p = figure(title=\"My Bokeh Plot\", x_axis_label=\"X-axis\", y_axis_label=\"Y-axis\")"
   ]
  },
  {
   "cell_type": "markdown",
   "id": "ac3f0788",
   "metadata": {},
   "source": [
    "4. Add data to the plot:\n",
    "we can add data to the plot using the appropriate glyph function. For example, to add a line plot, use line, and for scatter plots, use circle"
   ]
  },
  {
   "cell_type": "code",
   "execution_count": null,
   "id": "20e8a2e5",
   "metadata": {},
   "outputs": [],
   "source": [
    "p.line(x_data, y_data, line_width=2, line_color=\"blue\", legend_label=\"Line 1\")"
   ]
  },
  {
   "cell_type": "markdown",
   "id": "72a48f4a",
   "metadata": {},
   "source": [
    "5. Output the plot:\n",
    "Specify the output method for your Bokeh plot. we can save it as an HTML file or display it in a Jupyter Notebook, for example."
   ]
  },
  {
   "cell_type": "code",
   "execution_count": null,
   "id": "6e54f8fd",
   "metadata": {},
   "outputs": [],
   "source": [
    "output_file(\"my_plot.html\")"
   ]
  },
  {
   "cell_type": "markdown",
   "id": "11d25387",
   "metadata": {},
   "source": [
    "6. Show the plot:\n",
    "Use the show function to display the plot."
   ]
  },
  {
   "cell_type": "code",
   "execution_count": null,
   "id": "ef536d21",
   "metadata": {},
   "outputs": [],
   "source": [
    "show(p)"
   ]
  },
  {
   "cell_type": "markdown",
   "id": "3ef34eba",
   "metadata": {},
   "source": [
    "."
   ]
  },
  {
   "cell_type": "markdown",
   "id": "f6823d78",
   "metadata": {},
   "source": [
    "#### Q2. What are glyphs in Bokeh, and how can you add them to a Bokeh plot? Explain with an example."
   ]
  },
  {
   "cell_type": "markdown",
   "id": "abfea13d",
   "metadata": {},
   "source": [
    "In Bokeh, glyphs are the basic visual building blocks used to represent data on a plot. Glyphs are graphical shapes such as lines, circles, rectangles, and more, which can be used to display data points or create various types of charts and visualizations. We can add glyphs to a Bokeh plot to represent your data in a visually meaningful way."
   ]
  },
  {
   "cell_type": "code",
   "execution_count": 3,
   "id": "9ef47055",
   "metadata": {},
   "outputs": [],
   "source": [
    "from bokeh.plotting import figure, output_file, show\n",
    "\n",
    "x_data = [1, 2, 3, 4, 5]\n",
    "y_data = [6, 7, 2, 4, 5]\n",
    "\n",
    "p = figure(title=\"Glyph Example\", x_axis_label=\"X-axis\", y_axis_label=\"Y-axis\")\n",
    "\n",
    "p.circle(x_data, y_data, size=10, color=\"blue\", legend_label=\"Data Points\")\n",
    "\n",
    "output_file(\"glyph_example.html\")\n",
    "\n",
    "show(p)"
   ]
  },
  {
   "cell_type": "markdown",
   "id": "121b1923",
   "metadata": {},
   "source": [
    "."
   ]
  },
  {
   "cell_type": "markdown",
   "id": "a525653b",
   "metadata": {},
   "source": [
    "#### Q3. How can you customize the appearance of a Bokeh plot, including the axes, title, and legend?"
   ]
  },
  {
   "cell_type": "markdown",
   "id": "acc0ec6b",
   "metadata": {},
   "source": [
    "we can customize the appearance of a Bokeh plot, including the axes, title, and legend, by using various attributes and functions provided by the Bokeh library. Here are some common customization options:"
   ]
  },
  {
   "cell_type": "markdown",
   "id": "f2c24d57",
   "metadata": {},
   "source": [
    "Title and Axis Labels:\n",
    "\n",
    "To set the title of the plot, use the title attribute of the figure object.\n",
    "To set labels for the X and Y axes, use the x_axis_label and y_axis_label attributes."
   ]
  },
  {
   "cell_type": "markdown",
   "id": "9284ae84",
   "metadata": {},
   "source": [
    "Axis Ranges and Ticks:\n",
    "\n",
    "we can set the range of values displayed on the X and Y axes using the x_range and y_range attributes."
   ]
  },
  {
   "cell_type": "markdown",
   "id": "a5ba211e",
   "metadata": {},
   "source": [
    "Legend:\n",
    "\n",
    "To add a legend to plot, we can use the legend attribute of the glyph functions (e.g., p.circle or p.line). Set the legend_label parameter when adding glyphs to specify the label in the legend."
   ]
  },
  {
   "cell_type": "markdown",
   "id": "b3c5cc3c",
   "metadata": {},
   "source": [
    "."
   ]
  },
  {
   "cell_type": "markdown",
   "id": "9ca62631",
   "metadata": {},
   "source": [
    "#### Q4. What is a Bokeh server, and how can you use it to create interactive plots that can be updated in real time?"
   ]
  },
  {
   "cell_type": "markdown",
   "id": "4a293a49",
   "metadata": {},
   "source": [
    "A Bokeh server is a component of the Bokeh library that allows us to create interactive web applications with real-time updates. With a Bokeh server, we can build dynamic data visualization applications that respond to user interactions or external data source changes."
   ]
  },
  {
   "cell_type": "markdown",
   "id": "ab9cff4b",
   "metadata": {},
   "source": [
    "1. Import Necessary Modules\n",
    "2. Create a Bokeh Application Function\n",
    "3. Create a Figure and Data Source\n",
    "4. Define Interactive Widgets\n",
    "5. Define Callback Functions\n",
    "6. Attach Callbacks to Widgets\n",
    "7. Layout and Display\n",
    "8. Add the Layout to the Document\n",
    "9. Run the Bokeh Serve"
   ]
  },
  {
   "cell_type": "markdown",
   "id": "3fbdb50d",
   "metadata": {},
   "source": [
    "."
   ]
  }
 ],
 "metadata": {
  "kernelspec": {
   "display_name": "Python 3 (ipykernel)",
   "language": "python",
   "name": "python3"
  },
  "language_info": {
   "codemirror_mode": {
    "name": "ipython",
    "version": 3
   },
   "file_extension": ".py",
   "mimetype": "text/x-python",
   "name": "python",
   "nbconvert_exporter": "python",
   "pygments_lexer": "ipython3",
   "version": "3.11.4"
  }
 },
 "nbformat": 4,
 "nbformat_minor": 5
}
