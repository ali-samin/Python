{
 "cells": [
  {
   "cell_type": "markdown",
   "id": "2171c45d",
   "metadata": {},
   "source": [
    "#### Q1. In order to predict house price based on several characteristics, such as location, square footage, number of bedrooms, etc., you are developing an SVM regression model. Which regression metric in this situation would be the best to employ?"
   ]
  },
  {
   "cell_type": "markdown",
   "id": "fc9937f7",
   "metadata": {},
   "source": [
    "For evaluating a Support Vector Machine (SVM) regression model used to predict house prices, the Mean Absolute Error (MAE), Mean Squared Error (MSE), or Root Mean Squared Error (RMSE) are commonly used regression metrics. \n",
    "\n",
    "RMSE (Root Mean Squared Error) is the best metric for predicting house prices using SVM regression. It balances interpretability and penalizes large errors, which is important in pricing scenarios."
   ]
  },
  {
   "cell_type": "markdown",
   "id": "ec005a2e",
   "metadata": {},
   "source": [
    "."
   ]
  },
  {
   "cell_type": "markdown",
   "id": "856a7e77",
   "metadata": {},
   "source": [
    "#### Q2. You have built an SVM regression model and are trying to decide between using MSE or R-squared as your evaluation metric. Which metric would be more appropriate if your goal is to predict the actual price of a house as accurately as possible?"
   ]
  },
  {
   "cell_type": "markdown",
   "id": "b9cbfe60",
   "metadata": {},
   "source": [
    "If our goal is to predict the actual price of a house as accurately as possible, MSE (Mean Squared Error) would be more appropriate. MSE directly measures the average squared difference between predicted and actual prices, focusing on minimizing prediction errors in absolute terms, which aligns with accurate price prediction.\n",
    "\n",
    "R-squared, on the other hand, explains how well the model captures the variance in the data, but it doesn't provide a direct measure of prediction error in terms of price."
   ]
  },
  {
   "cell_type": "markdown",
   "id": "fa7c96e4",
   "metadata": {},
   "source": [
    "."
   ]
  },
  {
   "cell_type": "markdown",
   "id": "5ae5763a",
   "metadata": {},
   "source": [
    "#### Q3. You have a dataset with a significant number of outliers and are trying to select an appropriate regression metric to use with your SVM model. Which metric would be the most appropriate in this scenario?"
   ]
  },
  {
   "cell_type": "markdown",
   "id": "de19e18f",
   "metadata": {},
   "source": [
    "In the presence of a significant number of outliers, Mean Absolute Error (MAE) is the most appropriate metric to use with your SVM model. Unlike MSE or RMSE, which square the errors and give more weight to larger errors (outliers), MAE treats all errors equally, making it more robust to outliers. This makes it ideal for situations where you want to minimize the impact of outliers on the evaluation of your model's performance."
   ]
  },
  {
   "cell_type": "markdown",
   "id": "2275b3da",
   "metadata": {},
   "source": [
    "."
   ]
  },
  {
   "cell_type": "markdown",
   "id": "79a14e09",
   "metadata": {},
   "source": [
    "#### Q4. You have built an SVM regression model using a polynomial kernel and are trying to select the best metric to evaluate its performance. You have calculated both MSE and RMSE and found that both values are very close. Which metric should you choose to use in this case?"
   ]
  },
  {
   "cell_type": "markdown",
   "id": "c8268fb2",
   "metadata": {},
   "source": [
    "If both MSE and RMSE are very close, we should choose RMSE as the evaluation metric. This is because RMSE is more interpretable—it provides the error in the same units as the target variable (house prices, for example), making it easier to understand how much the model is off in real-world terms. MSE, while useful, is in squared units, which can make it harder to interpret."
   ]
  },
  {
   "cell_type": "markdown",
   "id": "028d7dad",
   "metadata": {},
   "source": [
    "."
   ]
  },
  {
   "cell_type": "markdown",
   "id": "f35d64ff",
   "metadata": {},
   "source": [
    "#### Q5. You are comparing the performance of different SVM regression models using different kernels (linear, polynomial, and RBF) and are trying to select the best evaluation metric. Which metric would be most appropriate if your goal is to measure how well the model explains the variance in the target variable?"
   ]
  },
  {
   "cell_type": "markdown",
   "id": "66bdbe42",
   "metadata": {},
   "source": [
    "If your goal is to measure how well the model explains the variance in the target variable, R-squared (R²) is the most appropriate metric. R-squared indicates the proportion of variance in the target variable that is explained by the model, making it ideal for comparing the performance of different SVM regression models with various kernels (linear, polynomial, RBF) in terms of how well they fit the data."
   ]
  }
 ],
 "metadata": {
  "kernelspec": {
   "display_name": "Python 3 (ipykernel)",
   "language": "python",
   "name": "python3"
  },
  "language_info": {
   "codemirror_mode": {
    "name": "ipython",
    "version": 3
   },
   "file_extension": ".py",
   "mimetype": "text/x-python",
   "name": "python",
   "nbconvert_exporter": "python",
   "pygments_lexer": "ipython3",
   "version": "3.11.4"
  }
 },
 "nbformat": 4,
 "nbformat_minor": 5
}
