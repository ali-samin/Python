{
 "cells": [
  {
   "cell_type": "markdown",
   "id": "98711f6e",
   "metadata": {},
   "source": [
    "### Q1. What is a database? Differentiate between SQL and NoSQL databases."
   ]
  },
  {
   "cell_type": "markdown",
   "id": "2612f497",
   "metadata": {},
   "source": [
    "A database is an organized collection of structured information or data, typically stored and accessed electronically. It is designed to efficiently manage and store data for various applications and enable easy retrieval, manipulation, and analysis of that data."
   ]
  },
  {
   "cell_type": "markdown",
   "id": "b16fa397",
   "metadata": {},
   "source": [
    "SQL (Structured Query Language) Databases:\n",
    "SQL databases are based on the relational data model, where data is organized into tables with predefined schemas. They use SQL as the standard language for managing and querying data. SQL databases have the following characteristics:"
   ]
  },
  {
   "cell_type": "markdown",
   "id": "c14e7469",
   "metadata": {},
   "source": [
    "1. Structured: Data is organized in a structured manner with predefined schemas and relationships between tables.\n",
    "2. ACID Compliance: ACID stands for Atomicity, Consistency, Isolation, and Durability. SQL databases ensure transactional consistency and integrity.\n",
    "3. Relational Integrity: SQL databases enforce relational integrity constraints, such as foreign key relationships and data consistency rules.\n",
    "4. Strong Data Consistency: Data in SQL databases follows a strict schema, ensuring strong consistency.\n",
    "5. Vertical Scalability: SQL databases usually scale vertically by increasing the hardware resources of the server.\n",
    " \n",
    " Examples of SQL databases include MySQL, PostgreSQL, Oracle, and Microsoft SQL Server."
   ]
  },
  {
   "cell_type": "markdown",
   "id": "45695b47",
   "metadata": {},
   "source": [
    "NoSQL (Not only SQL) Databases:\n",
    "NoSQL databases deviate from the traditional relational model and provide a more flexible approach for managing unstructured and semi-structured data. NoSQL databases have the following characteristics:\n"
   ]
  },
  {
   "cell_type": "markdown",
   "id": "9120f30e",
   "metadata": {},
   "source": [
    "\n",
    "1. Schemaless: NoSQL databases allow flexible schemas, enabling storage of unstructured and varying data types.\n",
    "2. High Scalability: NoSQL databases are designed to scale horizontally by distributing data across multiple servers.\n",
    "3. Eventual Consistency: NoSQL databases prioritize scalability and availability over immediate consistency, allowing eventual consistency among replicas.\n",
    "4. Distributed Architecture: NoSQL databases are designed to work efficiently in distributed environments.\n",
    "5. Variety of Data Models: NoSQL databases support various data models, such as key-value, document, columnar, and graph databases.\n",
    "\n",
    "    Examples of NoSQL databases MongoDB."
   ]
  },
  {
   "cell_type": "markdown",
   "id": "2b95bea0",
   "metadata": {},
   "source": [
    "."
   ]
  },
  {
   "cell_type": "markdown",
   "id": "ce30dbd6",
   "metadata": {},
   "source": [
    "### Q2. What is DDL? Explain why CREATE, DROP, ALTER, and TRUNCATE are used with an example."
   ]
  },
  {
   "cell_type": "markdown",
   "id": "05155dd7",
   "metadata": {},
   "source": [
    "DDL stands for Data Definition Language. It is a subset of SQL (Structured Query Language) used to define and manage the structure of a database. DDL statements are responsible for creating, altering, and dropping database objects such as tables, indexes, views, and constraints. They help in defining the schema of the database and managing its structure."
   ]
  },
  {
   "cell_type": "markdown",
   "id": "84fdce35",
   "metadata": {},
   "source": [
    "1. CREATE:\n",
    "The CREATE statement is used to create new database objects, such as tables, views, indexes, or constraints. It specifies the object's name, structure, and any initial data or properties. Here's an example of creating a table:"
   ]
  },
  {
   "cell_type": "code",
   "execution_count": null,
   "id": "6174d7fc",
   "metadata": {},
   "outputs": [],
   "source": [
    "CREATE TABLE Employees (\n",
    "    EmployeeID INT,\n",
    "    FirstName VARCHAR(50),\n",
    "    LastName VARCHAR(50),\n",
    "    Age INT,\n",
    "    Salary DECIMAL(10, 2)\n",
    ");"
   ]
  },
  {
   "cell_type": "markdown",
   "id": "4d46fc17",
   "metadata": {},
   "source": [
    "2. DROP:\n",
    "The DROP statement is used to remove or delete existing database objects, such as tables, views, or indexes. It permanently deletes the specified object and its associated data. Here's an example of dropping a table:"
   ]
  },
  {
   "cell_type": "code",
   "execution_count": null,
   "id": "5c14e337",
   "metadata": {},
   "outputs": [],
   "source": [
    "DROP TABLE Employees;"
   ]
  },
  {
   "cell_type": "markdown",
   "id": "ddf78ab5",
   "metadata": {},
   "source": [
    "3. ALTER:\n",
    "The ALTER statement is used to modify the structure of an existing database object. It allows you to add, modify, or delete columns, constraints, or other properties of a table. Here's an example of altering a table by adding a new column:"
   ]
  },
  {
   "cell_type": "code",
   "execution_count": null,
   "id": "bb9720bb",
   "metadata": {},
   "outputs": [],
   "source": [
    "ALTER TABLE Employees\n",
    "ADD COLUMN Department VARCHAR(50);"
   ]
  },
  {
   "cell_type": "markdown",
   "id": "be238bff",
   "metadata": {},
   "source": [
    "4. TRUNCATE:\n",
    "The TRUNCATE statement is used to remove all the data from a table while keeping its structure intact. It is faster than the DELETE statement because it does not generate individual delete logs for each row. Here's an example of truncating a table:"
   ]
  },
  {
   "cell_type": "code",
   "execution_count": null,
   "id": "8824c728",
   "metadata": {},
   "outputs": [],
   "source": [
    "TRUNCATE TABLE Employees;"
   ]
  },
  {
   "cell_type": "markdown",
   "id": "8637a33a",
   "metadata": {},
   "source": [
    "."
   ]
  },
  {
   "cell_type": "markdown",
   "id": "704b3cbe",
   "metadata": {},
   "source": [
    "### Q3. What is DML? Explain INSERT, UPDATE, and DELETE with an example."
   ]
  },
  {
   "cell_type": "markdown",
   "id": "a92ee1ef",
   "metadata": {},
   "source": [
    "DML stands for Data Manipulation Language. It is a subset of SQL (Structured Query Language) used to retrieve, insert, update, and delete data within a database. DML statements are used to perform operations on the data stored in database objects like tables. They allow you to manipulate the data and modify its content."
   ]
  },
  {
   "cell_type": "markdown",
   "id": "680295ad",
   "metadata": {},
   "source": [
    "1. INSERT:\n",
    "The INSERT statement is used to add new rows of data into a table. It allows you to specify the column names and their corresponding values for the new row. Here's an example of inserting a new row into a table:"
   ]
  },
  {
   "cell_type": "code",
   "execution_count": null,
   "id": "c6f2f4d9",
   "metadata": {},
   "outputs": [],
   "source": [
    "INSERT INTO Employees (EmployeeID, FirstName, LastName, Age, Salary)\n",
    "VALUES (1, 'John', 'Doe', 30, 50000);"
   ]
  },
  {
   "cell_type": "markdown",
   "id": "93a4cbff",
   "metadata": {},
   "source": [
    "2. UPDATE:\n",
    "The UPDATE statement is used to modify the existing data within a table. It allows you to change the values of one or more columns in one or more rows based on specified conditions. Here's an example of updating a row in a table:"
   ]
  },
  {
   "cell_type": "code",
   "execution_count": null,
   "id": "6aacb604",
   "metadata": {},
   "outputs": [],
   "source": [
    "UPDATE Employees\n",
    "SET Salary = 55000\n",
    "WHERE EmployeeID = 1;"
   ]
  },
  {
   "cell_type": "markdown",
   "id": "cc485476",
   "metadata": {},
   "source": [
    "3. DELETE:\n",
    "The DELETE statement is used to remove one or more rows from a table. It allows you to specify conditions to determine which rows should be deleted. Here's an example of deleting a row from a table:"
   ]
  },
  {
   "cell_type": "code",
   "execution_count": null,
   "id": "084baa1f",
   "metadata": {},
   "outputs": [],
   "source": [
    "DELETE FROM Employees\n",
    "WHERE EmployeeID = 1;"
   ]
  },
  {
   "cell_type": "markdown",
   "id": "d38f0c78",
   "metadata": {},
   "source": [
    "."
   ]
  },
  {
   "cell_type": "markdown",
   "id": "d02be919",
   "metadata": {},
   "source": [
    "### Q4. What is DQL? Explain SELECT with an example."
   ]
  },
  {
   "cell_type": "markdown",
   "id": "7a561e05",
   "metadata": {},
   "source": [
    " DQL stands for Data Query Language. It is a subset of SQL (Structured Query Language) used to retrieve data from a database. DQL is primarily focused on querying and fetching data without modifying its structure. The most commonly used DQL statement is SELECT, which allows you to retrieve specific data from one or more database tables."
   ]
  },
  {
   "cell_type": "markdown",
   "id": "b488bd3b",
   "metadata": {},
   "source": [
    "SELECT:\n",
    "The SELECT statement is used to retrieve data from a database table or a combination of tables. It allows you to specify the columns you want to retrieve, filter the rows based on conditions, and sort the result set. Here's an example of using SELECT to fetch data from a table:"
   ]
  },
  {
   "cell_type": "code",
   "execution_count": null,
   "id": "b0ca1dd1",
   "metadata": {},
   "outputs": [],
   "source": [
    "SELECT FirstName, LastName, Age\n",
    "FROM Employees\n",
    "WHERE Department = 'Sales'\n",
    "ORDER BY LastName ASC;"
   ]
  },
  {
   "cell_type": "markdown",
   "id": "1f67a7f3",
   "metadata": {},
   "source": [
    "."
   ]
  },
  {
   "cell_type": "markdown",
   "id": "3a52f9b5",
   "metadata": {},
   "source": [
    "### Q5. Explain Primary Key and Foreign Key."
   ]
  },
  {
   "cell_type": "markdown",
   "id": "06f01dc8",
   "metadata": {},
   "source": [
    "1. Primary Key:\n",
    "A primary key is a column or a set of columns in a database table that uniquely identifies each record (row) in that table. It serves as a unique identifier for each entry in the table, ensuring data integrity and facilitating efficient data retrieval. Key characteristics of a primary key include:\n",
    "\n",
    "\n",
    "Uniqueness: Each value in the primary key column(s) must be unique. No two rows can have the same value(s) for the primary key.\n",
    "\n",
    "Non-nullability: A primary key column cannot have null (empty) values. It must always have a value for every record.\n",
    "\n",
    "Irreducibility: A primary key should consist of the minimum number of columns required to uniquely identify each record"
   ]
  },
  {
   "cell_type": "markdown",
   "id": "8dc49f8e",
   "metadata": {},
   "source": [
    "2. Foreign Key:\n",
    "A foreign key is a column or a set of columns in a database table that establishes a link or a relationship between two tables. It represents a relationship between the data in two tables by referring to the primary key of another table. The primary key column(s) of one table become the foreign key column(s) in another table. Key characteristics of a foreign key include:\n",
    "\n",
    "Referential Integrity: A foreign key establishes a referential relationship between tables, ensuring that the values in the foreign key column(s) of one table correspond to the primary key values in another table.\n",
    "\n",
    "Constraint: A foreign key can enforce referential integrity by specifying constraints such as ON DELETE and ON UPDATE actions, which define how changes to the primary key values in the referenced table should be handled."
   ]
  },
  {
   "cell_type": "markdown",
   "id": "6407e9fb",
   "metadata": {},
   "source": [
    "### Q6. Write a python code to connect MySQL to python. Explain the cursor() and execute() method."
   ]
  },
  {
   "cell_type": "code",
   "execution_count": null,
   "id": "0170f5a7",
   "metadata": {},
   "outputs": [],
   "source": [
    "import mysql.connector\n",
    "\n",
    "mydb = mysql.connector.connect(\n",
    "    host=\"localhost\",\n",
    "    user=\"root\",\n",
    "    password=\"password\"\n",
    ")\n",
    "print(mydb)\n",
    "mycursor = mydb.cursor()\n",
    "print(\"connected\")\n",
    "\n",
    "mycursor.execute(\"select * from database.table_name\")\n",
    "mydb.close()"
   ]
  },
  {
   "cell_type": "markdown",
   "id": "bb967a01",
   "metadata": {},
   "source": [
    "The cursor() method creates a cursor object, which is responsible for executing SQL queries and fetching the results. It acts as a pointer or a handle to interact with the database. The cursor allows you to execute multiple queries and retrieve data from the database."
   ]
  },
  {
   "cell_type": "markdown",
   "id": "44ea0a48",
   "metadata": {},
   "source": [
    "The execute() method is used to execute SQL queries through the cursor. You pass the SQL statement as a string parameter to the execute() method. It can be any valid SQL query, such as SELECT, INSERT, UPDATE, or DELETE. After executing the query, the cursor holds the result set, which can be fetched using methods like fetchall(), fetchone(), or fetchmany()."
   ]
  },
  {
   "cell_type": "markdown",
   "id": "72371f90",
   "metadata": {},
   "source": [
    "."
   ]
  },
  {
   "cell_type": "markdown",
   "id": "6cefeb58",
   "metadata": {},
   "source": [
    "### Q7. Give the order of execution of SQL clauses in an SQL query."
   ]
  },
  {
   "cell_type": "markdown",
   "id": "53d5c699",
   "metadata": {},
   "source": [
    "The general order of execution for the clauses in an SQL query is as follows:"
   ]
  },
  {
   "cell_type": "markdown",
   "id": "871363fd",
   "metadata": {},
   "source": [
    "1. FROM: Specifies the table(s) from which the data will be retrieved.\n",
    "2. WHERE: Filters the rows based on specified conditions.\n",
    "3. GROUP BY: Groups the rows based on specified columns.\n",
    "4. HAVING: Filters the grouped rows based on specified conditions.\n",
    "5. SELECT: Specifies the columns to be retrieved from the selected rows.\n",
    "6. DISTINCT: Removes duplicate rows from the result set.\n",
    "7. ORDER BY: Sorts the result set based on specified columns.\n",
    "8. LIMIT/OFFSET: Restricts the number of rows returned or skips a specified number of rows.\n",
    "9. UNION/INTERSECT/EXCEPT: Performs set operations on multiple result sets."
   ]
  },
  {
   "cell_type": "code",
   "execution_count": null,
   "id": "99d59dbf",
   "metadata": {},
   "outputs": [],
   "source": []
  }
 ],
 "metadata": {
  "kernelspec": {
   "display_name": "Python 3 (ipykernel)",
   "language": "python",
   "name": "python3"
  },
  "language_info": {
   "codemirror_mode": {
    "name": "ipython",
    "version": 3
   },
   "file_extension": ".py",
   "mimetype": "text/x-python",
   "name": "python",
   "nbconvert_exporter": "python",
   "pygments_lexer": "ipython3",
   "version": "3.9.12"
  }
 },
 "nbformat": 4,
 "nbformat_minor": 5
}
