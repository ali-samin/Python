{
 "cells": [
  {
   "cell_type": "markdown",
   "id": "74ec62bc",
   "metadata": {},
   "source": [
    "#### Q1. Which keyword is used to create a function? Create a function to return a list of odd numbers in the range of 1 to 25."
   ]
  },
  {
   "cell_type": "markdown",
   "id": "456748f6",
   "metadata": {},
   "source": [
    "The keyword used to create a function is 'def'"
   ]
  },
  {
   "cell_type": "code",
   "execution_count": 6,
   "id": "02861078",
   "metadata": {},
   "outputs": [
    {
     "name": "stdout",
     "output_type": "stream",
     "text": [
      "[1, 3, 5, 7, 9, 11, 13, 15, 17, 19, 21, 23, 25]\n"
     ]
    }
   ],
   "source": [
    "# a function to return a list of odd numbers in the range of 1 to 25 \n",
    "def odd_num_funct():\n",
    "    odd_number = []\n",
    "    for num in range(1,26):\n",
    "        if num % 2 != 0:\n",
    "            odd_number.append(num)\n",
    "    return odd_number\n",
    "result = odd_num_funct()\n",
    "print(result)"
   ]
  },
  {
   "cell_type": "markdown",
   "id": "7c547d18",
   "metadata": {},
   "source": [
    "#### Q2. Why **args and ***kwargs is used in some functions? Create a function each for *args and **kwargs to demonstrate their use."
   ]
  },
  {
   "cell_type": "markdown",
   "id": "e0937a58",
   "metadata": {},
   "source": [
    "In Python, *args and **kwargs are used in function definitions to allow the function to accept a variable number \n",
    "of arguments.\n",
    "\n",
    "The term \"*args\" is used to pass a variable number of non-keyword arguments to a function. It allows you to pass \n",
    "any number of positional arguments to the function. The arguments are collected into a tuple, which can be iterated\n",
    "or accessed using indexing."
   ]
  },
  {
   "cell_type": "code",
   "execution_count": 7,
   "id": "93f1ede6",
   "metadata": {},
   "outputs": [
    {
     "name": "stdout",
     "output_type": "stream",
     "text": [
      "24\n",
      "1680\n"
     ]
    }
   ],
   "source": [
    "#example:\n",
    "def multiply(*args):\n",
    "    result = 1\n",
    "    for num in args:\n",
    "        result *= num\n",
    "    return result\n",
    "\n",
    "print(multiply(2, 3, 4))\n",
    "print(multiply(5, 6, 7, 8))"
   ]
  },
  {
   "cell_type": "markdown",
   "id": "d2132a54",
   "metadata": {},
   "source": [
    "The term \"**kwargs\" is used to pass a variable number of keyword arguments to a function. It allows you to pass \n",
    "any number of keyword arguments, which are collected into a dictionary. The keys of the dictionary are the argument\n",
    "names, and the values are the argument values."
   ]
  },
  {
   "cell_type": "code",
   "execution_count": 9,
   "id": "460f66ae",
   "metadata": {},
   "outputs": [
    {
     "data": {
      "text/plain": [
       "{'a': [1, 2, 3, 4], 'b': 'sudh', 'c': 23.45}"
      ]
     },
     "execution_count": 9,
     "metadata": {},
     "output_type": "execute_result"
    }
   ],
   "source": [
    "# example\n",
    "def test15(**kwargs):\n",
    "    return kwargs\n",
    "test15(a=[1,2,3,4],b=\"sudh\",c=23.45)"
   ]
  },
  {
   "cell_type": "markdown",
   "id": "8a0066f6",
   "metadata": {},
   "source": [
    "#### Q4. What is a generator function in python? Why yield keyword is used? Give an example of a generator function."
   ]
  },
  {
   "cell_type": "markdown",
   "id": "52bd6b53",
   "metadata": {},
   "source": [
    "In Python, a generator function is a special type of function that generates a sequence of values using the \"yield\"\n",
    "keyword. Unlike regular functions that use \"return\" to provide a single result, generator functions use \"yield\" to\n",
    "produce a series of values over multiple invocations.\n",
    "\n",
    "The \"yield\" keyword is used in generator functions to define points at which the function should \"yield\" a value to \n",
    "the caller. When a generator function encounters a \"yield\" statement, it temporarily suspends its execution and returns\n",
    "the yielded value to the caller. The function's state is saved, allowing it to resume where it left off when the \n",
    "next value is requested."
   ]
  },
  {
   "cell_type": "code",
   "execution_count": 10,
   "id": "4978ce47",
   "metadata": {},
   "outputs": [
    {
     "name": "stdout",
     "output_type": "stream",
     "text": [
      "0\n",
      "1\n",
      "1\n",
      "2\n",
      "3\n",
      "5\n",
      "8\n",
      "13\n",
      "21\n",
      "34\n"
     ]
    }
   ],
   "source": [
    "#examaple:\n",
    "def test_fib(n):\n",
    "    a,b = 0,1\n",
    "    for i in range(n):\n",
    "        yield a    \n",
    "        a,b = b,a+b\n",
    "for i in test_fib(10):\n",
    "    print(i)"
   ]
  },
  {
   "cell_type": "markdown",
   "id": "91342955",
   "metadata": {},
   "source": [
    "#### Q5. Create a generator function for prime numbers less than 1000. Use the next() method to print the first 20 prime numbers."
   ]
  },
  {
   "cell_type": "code",
   "execution_count": 11,
   "id": "508df3e4",
   "metadata": {},
   "outputs": [
    {
     "name": "stdout",
     "output_type": "stream",
     "text": [
      "2\n",
      "3\n",
      "5\n",
      "7\n",
      "11\n",
      "13\n",
      "17\n",
      "19\n",
      "23\n",
      "29\n",
      "31\n",
      "37\n",
      "41\n",
      "43\n",
      "47\n",
      "53\n",
      "59\n",
      "61\n",
      "67\n",
      "71\n"
     ]
    }
   ],
   "source": [
    "def prime_generator():\n",
    "    primes = []\n",
    "    num = 2\n",
    "    while True:\n",
    "        if all(num % prime != 0 for prime in primes):\n",
    "            primes.append(num)\n",
    "            yield num\n",
    "        num += 1\n",
    "\n",
    "prime_gen = prime_generator()\n",
    "for _ in range(20):\n",
    "    prime_num = next(prime_gen)\n",
    "    print(prime_num)"
   ]
  },
  {
   "cell_type": "markdown",
   "id": "b87a2ac3",
   "metadata": {},
   "source": [
    "#### Q6. Write a python program to print the first 10 Fibonacci numbers using a while loop."
   ]
  },
  {
   "cell_type": "code",
   "execution_count": 12,
   "id": "c2193a59",
   "metadata": {},
   "outputs": [
    {
     "name": "stdout",
     "output_type": "stream",
     "text": [
      "0\n",
      "1\n",
      "1\n",
      "2\n",
      "3\n",
      "5\n",
      "8\n",
      "13\n",
      "21\n",
      "34\n"
     ]
    }
   ],
   "source": [
    "num1 = 0\n",
    "num2 = 1\n",
    "count = 0\n",
    "\n",
    "while count < 10:\n",
    "    print(num1)\n",
    "    fib_sum = num1 + num2\n",
    "    num1 = num2\n",
    "    num2 = fib_sum\n",
    "    count += 1"
   ]
  },
  {
   "cell_type": "markdown",
   "id": "59fc9ea7",
   "metadata": {},
   "source": [
    "#### Q7. Write a List Comprehension to iterate through the given string: ‘pwskills’. Expected output: ['p', 'w', 's', 'k', 'i', 'l', 'l', 's']"
   ]
  },
  {
   "cell_type": "code",
   "execution_count": 13,
   "id": "431a33ef",
   "metadata": {},
   "outputs": [
    {
     "name": "stdout",
     "output_type": "stream",
     "text": [
      "['p', 'w', 's', 'k', 'i', 'l', 'l', 's']\n"
     ]
    }
   ],
   "source": [
    "string = 'pwskills'\n",
    "output = [char for char in string if char in 'pwskills']\n",
    "print(output)"
   ]
  },
  {
   "cell_type": "markdown",
   "id": "d142e22f",
   "metadata": {},
   "source": [
    "#### Q8. Write a python program to check whether a given number is Palindrome or not using a while loop."
   ]
  },
  {
   "cell_type": "code",
   "execution_count": null,
   "id": "e003a7d5",
   "metadata": {},
   "outputs": [],
   "source": [
    "def is_palindrome(number):\n",
    "    temp = number\n",
    "    reverse = 0\n",
    "\n",
    "    while temp > 0:\n",
    "        digit = temp % 10\n",
    "        reverse = reverse * 10 + digit\n",
    "        temp = temp // 10\n",
    "\n",
    "    if number == reverse:\n",
    "        return True\n",
    "    else:\n",
    "        return False\n",
    "\n",
    "num = int(input(\"Enter a number: \"))\n",
    "\n",
    "if is_palindrome(num):\n",
    "    print(f\"{num} is a palindrome\")\n",
    "else:\n",
    "    print(f\"{num} is not a palindrome\")"
   ]
  },
  {
   "cell_type": "markdown",
   "id": "9540329c",
   "metadata": {},
   "source": [
    "#### Q9. Write a code to print odd numbers from 1 to 100 using list comprehension. Note: Use a list comprehension to create a list from 1 to 100 and use another List comprehension to filter out odd numbers."
   ]
  },
  {
   "cell_type": "code",
   "execution_count": 14,
   "id": "c06e6c93",
   "metadata": {},
   "outputs": [
    {
     "name": "stdout",
     "output_type": "stream",
     "text": [
      "[1, 3, 5, 7, 9, 11, 13, 15, 17, 19, 21, 23, 25, 27, 29, 31, 33, 35, 37, 39, 41, 43, 45, 47, 49, 51, 53, 55, 57, 59, 61, 63, 65, 67, 69, 71, 73, 75, 77, 79, 81, 83, 85, 87, 89, 91, 93, 95, 97, 99]\n"
     ]
    }
   ],
   "source": [
    "# Using list comprehension to create a list from 1 to 100\n",
    "numbers = [num for num in range(1, 101)]\n",
    "\n",
    "# Using another list comprehension to filter out odd numbers\n",
    "odd_numbers = [num for num in numbers if num % 2 != 0]\n",
    "\n",
    "# Print the list of odd numbers\n",
    "print(odd_numbers)"
   ]
  },
  {
   "cell_type": "code",
   "execution_count": null,
   "id": "37686f46",
   "metadata": {},
   "outputs": [],
   "source": []
  }
 ],
 "metadata": {
  "kernelspec": {
   "display_name": "Python 3 (ipykernel)",
   "language": "python",
   "name": "python3"
  },
  "language_info": {
   "codemirror_mode": {
    "name": "ipython",
    "version": 3
   },
   "file_extension": ".py",
   "mimetype": "text/x-python",
   "name": "python",
   "nbconvert_exporter": "python",
   "pygments_lexer": "ipython3",
   "version": "3.9.12"
  }
 },
 "nbformat": 4,
 "nbformat_minor": 5
}
