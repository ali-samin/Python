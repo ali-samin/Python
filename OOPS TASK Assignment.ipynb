{
 "cells": [
  {
   "cell_type": "markdown",
   "id": "c4713f4b",
   "metadata": {},
   "source": [
    "### Q1, Create a vehicle class with an init method having instance variables as name_of_vehicle, max_speed and average_of_vehicle."
   ]
  },
  {
   "cell_type": "code",
   "execution_count": 60,
   "id": "87b74240",
   "metadata": {},
   "outputs": [],
   "source": [
    "class vehicle:\n",
    "    \n",
    "    def __init__(self, name_of_vehicle, max_speed, average_of_vehicle):\n",
    "        self.name = name_of_vehicle\n",
    "        self.m_speed = max_speed\n",
    "        self.a_vehicle = average_of_vehicle\n",
    "        \n",
    "    def return_values(self):\n",
    "        return self.name, self.m_speed, self.a_vehicle"
   ]
  },
  {
   "cell_type": "code",
   "execution_count": 61,
   "id": "45852fad",
   "metadata": {},
   "outputs": [],
   "source": [
    "var_obj = vehicle(\"scorpio\", 165, \"14.75 kmpl\")"
   ]
  },
  {
   "cell_type": "code",
   "execution_count": 62,
   "id": "ddff5499",
   "metadata": {},
   "outputs": [
    {
     "data": {
      "text/plain": [
       "('scorpio', 165, '14.75 kmpl')"
      ]
     },
     "execution_count": 62,
     "metadata": {},
     "output_type": "execute_result"
    }
   ],
   "source": [
    "var_obj.return_values()"
   ]
  },
  {
   "cell_type": "code",
   "execution_count": 63,
   "id": "5d2f2fad",
   "metadata": {},
   "outputs": [
    {
     "data": {
      "text/plain": [
       "'scorpio'"
      ]
     },
     "execution_count": 63,
     "metadata": {},
     "output_type": "execute_result"
    }
   ],
   "source": [
    "var_obj.name"
   ]
  },
  {
   "cell_type": "code",
   "execution_count": 64,
   "id": "2f5e4410",
   "metadata": {},
   "outputs": [
    {
     "data": {
      "text/plain": [
       "165"
      ]
     },
     "execution_count": 64,
     "metadata": {},
     "output_type": "execute_result"
    }
   ],
   "source": [
    "var_obj.m_speed"
   ]
  },
  {
   "cell_type": "code",
   "execution_count": 65,
   "id": "a81258ab",
   "metadata": {},
   "outputs": [
    {
     "data": {
      "text/plain": [
       "'14.75 kmpl'"
      ]
     },
     "execution_count": 65,
     "metadata": {},
     "output_type": "execute_result"
    }
   ],
   "source": [
    "var_obj.a_vehicle"
   ]
  },
  {
   "cell_type": "markdown",
   "id": "21690141",
   "metadata": {},
   "source": [
    "."
   ]
  },
  {
   "cell_type": "markdown",
   "id": "a80eabf9",
   "metadata": {},
   "source": [
    "### Q2. Create a child class car from the vehicle class created in Que 1, which will inherit the vehicle class. Create a method named seating_capacity which takes capacity as an argument and returns the name of the vehicle and its seating capacity."
   ]
  },
  {
   "cell_type": "code",
   "execution_count": 66,
   "id": "3de10a94",
   "metadata": {},
   "outputs": [],
   "source": [
    "class Vehicle:\n",
    "    def __init__(self, name):\n",
    "        self.name = name"
   ]
  },
  {
   "cell_type": "code",
   "execution_count": null,
   "id": "b656db60",
   "metadata": {},
   "outputs": [],
   "source": []
  },
  {
   "cell_type": "code",
   "execution_count": 69,
   "id": "5cabbd4f",
   "metadata": {},
   "outputs": [],
   "source": [
    "class Car(Vehicle):\n",
    "    def seating_capacity(self, capacity):\n",
    "        return f\"{self.name} - Seating Capacity: {capacity}\""
   ]
  },
  {
   "cell_type": "code",
   "execution_count": 72,
   "id": "6f29016d",
   "metadata": {},
   "outputs": [],
   "source": [
    "car_details = Car(\"Toyota Camry\")"
   ]
  },
  {
   "cell_type": "code",
   "execution_count": 74,
   "id": "8e94ceff",
   "metadata": {},
   "outputs": [
    {
     "data": {
      "text/plain": [
       "'Toyota Camry - Seating Capacity: 5'"
      ]
     },
     "execution_count": 74,
     "metadata": {},
     "output_type": "execute_result"
    }
   ],
   "source": [
    "car_details.seating_capacity(5)"
   ]
  },
  {
   "cell_type": "markdown",
   "id": "9123cc97",
   "metadata": {},
   "source": [
    "."
   ]
  },
  {
   "cell_type": "markdown",
   "id": "b164cd83",
   "metadata": {},
   "source": [
    "### Q3. What is multiple inheritance? Write a python code to demonstrate multiple inheritance."
   ]
  },
  {
   "cell_type": "markdown",
   "id": "25353f45",
   "metadata": {},
   "source": [
    "Ans. Multiple inheritance is a feature in object-oriented programming where a class can inherit attributes and methods from  multiple parent classes. In other words, a child class can inherit from more than one parent class."
   ]
  },
  {
   "cell_type": "code",
   "execution_count": 76,
   "id": "8f4bfece",
   "metadata": {},
   "outputs": [],
   "source": [
    "class Parent1:\n",
    "    def method1(self):\n",
    "        return \"Method 1 from Parent 1\""
   ]
  },
  {
   "cell_type": "code",
   "execution_count": 77,
   "id": "7e04d68b",
   "metadata": {},
   "outputs": [],
   "source": [
    "class Parent2:\n",
    "    def method2(self):\n",
    "        return \"Method 2 from Parent 2\""
   ]
  },
  {
   "cell_type": "code",
   "execution_count": 78,
   "id": "9db8bb3b",
   "metadata": {},
   "outputs": [],
   "source": [
    "class Child(Parent1, Parent2):\n",
    "    def method3(self):\n",
    "        return \"Method 3 from Child\""
   ]
  },
  {
   "cell_type": "code",
   "execution_count": 79,
   "id": "fcab965b",
   "metadata": {},
   "outputs": [],
   "source": [
    "child = Child()"
   ]
  },
  {
   "cell_type": "code",
   "execution_count": 80,
   "id": "33a6ba61",
   "metadata": {},
   "outputs": [
    {
     "name": "stdout",
     "output_type": "stream",
     "text": [
      "Method 1 from Parent 1\n"
     ]
    }
   ],
   "source": [
    "child.method1()"
   ]
  },
  {
   "cell_type": "code",
   "execution_count": 81,
   "id": "1f78d87d",
   "metadata": {},
   "outputs": [
    {
     "data": {
      "text/plain": [
       "'Method 2 from Parent 2'"
      ]
     },
     "execution_count": 81,
     "metadata": {},
     "output_type": "execute_result"
    }
   ],
   "source": [
    "child.method2()"
   ]
  },
  {
   "cell_type": "code",
   "execution_count": 82,
   "id": "4b67b1a0",
   "metadata": {},
   "outputs": [
    {
     "data": {
      "text/plain": [
       "'Method 3 from Child'"
      ]
     },
     "execution_count": 82,
     "metadata": {},
     "output_type": "execute_result"
    }
   ],
   "source": [
    "child.method3()"
   ]
  },
  {
   "cell_type": "markdown",
   "id": "1891ca0f",
   "metadata": {},
   "source": [
    "."
   ]
  },
  {
   "cell_type": "markdown",
   "id": "1c36260f",
   "metadata": {},
   "source": [
    "### Q4. What are getter and setter in python? Create a class and create a getter and a setter method in this class."
   ]
  },
  {
   "cell_type": "markdown",
   "id": "97ba247b",
   "metadata": {},
   "source": [
    "In Python, getters and setters are methods used to retrieve and modify the values of class attributes, respectively. They provide a way to control access to class variables and enforce encapsulation.\n",
    "\n",
    "A getter is a method that allows us to retrieve the value of a private attribute. It provides read-only access to the attribute and typically has a naming convention like get_attribute_name(). Getters are useful when you want to provide controlled access to the attribute or perform additional logic before returning the value.\n",
    "\n",
    "A setter is a method that allows us to modify the value of a private attribute. It provides write-only access to the attribute and typically has a naming convention like set_attribute_name(). Setters are useful when you want to perform validation or additional logic before assigning a new value to the attribute."
   ]
  },
  {
   "cell_type": "code",
   "execution_count": 83,
   "id": "b4a15d6e",
   "metadata": {},
   "outputs": [],
   "source": [
    "class Person:\n",
    "    def __init__(self):\n",
    "        self._name = \"\"\n",
    "\n",
    "    def get_name(self):\n",
    "        return self._name\n",
    "\n",
    "    def set_name(self, name):\n",
    "        self._name = name"
   ]
  },
  {
   "cell_type": "code",
   "execution_count": 84,
   "id": "44fafa8d",
   "metadata": {},
   "outputs": [],
   "source": [
    "person = Person()"
   ]
  },
  {
   "cell_type": "code",
   "execution_count": 85,
   "id": "893a3202",
   "metadata": {},
   "outputs": [],
   "source": [
    "person.set_name(\"John Doe\")"
   ]
  },
  {
   "cell_type": "code",
   "execution_count": 86,
   "id": "dea55183",
   "metadata": {},
   "outputs": [
    {
     "data": {
      "text/plain": [
       "'John Doe'"
      ]
     },
     "execution_count": 86,
     "metadata": {},
     "output_type": "execute_result"
    }
   ],
   "source": [
    "person.get_name()"
   ]
  },
  {
   "cell_type": "markdown",
   "id": "4247a6c4",
   "metadata": {},
   "source": [
    "."
   ]
  },
  {
   "cell_type": "markdown",
   "id": "0ea6e5de",
   "metadata": {},
   "source": [
    "### Q5.What is method overriding in python? Write a python code to demonstrate method overriding."
   ]
  },
  {
   "cell_type": "markdown",
   "id": "1998c84d",
   "metadata": {},
   "source": [
    "Method overriding is a concept in object-oriented programming where a subclass provides its own implementation of a method that is already defined in its parent class. The method in the subclass \"overrides\" the method in the parent class, meaning that when the method is called on an instance of the subclass, the overridden implementation is executed instead of the parent class implementation"
   ]
  },
  {
   "cell_type": "code",
   "execution_count": 87,
   "id": "d23e73fe",
   "metadata": {},
   "outputs": [],
   "source": [
    "class Parent:\n",
    "    def greet(self):\n",
    "        print(\"Hello, I am the Parent class!\")\n",
    "\n",
    "class Child(Parent):\n",
    "    def greet(self):\n",
    "        print(\"Hello, I am the Child class!\")"
   ]
  },
  {
   "cell_type": "code",
   "execution_count": 88,
   "id": "d39fe398",
   "metadata": {},
   "outputs": [],
   "source": [
    "child = Child()"
   ]
  },
  {
   "cell_type": "code",
   "execution_count": 89,
   "id": "0efbfe93",
   "metadata": {},
   "outputs": [
    {
     "name": "stdout",
     "output_type": "stream",
     "text": [
      "Hello, I am the Child class!\n"
     ]
    }
   ],
   "source": [
    "child.greet() "
   ]
  }
 ],
 "metadata": {
  "kernelspec": {
   "display_name": "Python 3 (ipykernel)",
   "language": "python",
   "name": "python3"
  },
  "language_info": {
   "codemirror_mode": {
    "name": "ipython",
    "version": 3
   },
   "file_extension": ".py",
   "mimetype": "text/x-python",
   "name": "python",
   "nbconvert_exporter": "python",
   "pygments_lexer": "ipython3",
   "version": "3.9.12"
  }
 },
 "nbformat": 4,
 "nbformat_minor": 5
}
