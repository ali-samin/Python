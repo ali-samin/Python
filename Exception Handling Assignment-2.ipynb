{
 "cells": [
  {
   "cell_type": "markdown",
   "id": "59b1ebf8",
   "metadata": {},
   "source": [
    "### Q1 Explain why we have to use the Exception class while creating a Custom Exception."
   ]
  },
  {
   "cell_type": "markdown",
   "id": "1e339b33",
   "metadata": {},
   "source": [
    "When creating a custom exception in Python, it is recommended to inherit from the base Exception class or one of its subclasses. The Exception class serves as the base class for all exceptions in Python, providing a consistent interface and behavior for handling exceptions.\n",
    "\n",
    "Here are a few reasons why we use the Exception class as the base class for custom exceptions:"
   ]
  },
  {
   "cell_type": "markdown",
   "id": "13cb9cc4",
   "metadata": {},
   "source": [
    "1. Inheritance\n",
    "2. Compatibility\n",
    "3. Consistency and Standardization\n",
    "4. Exception Hierarchy"
   ]
  },
  {
   "cell_type": "markdown",
   "id": "b4030270",
   "metadata": {},
   "source": [
    "### Q3. What errors are defined in the ArithmeticError class? Explain any two with an example."
   ]
  },
  {
   "cell_type": "markdown",
   "id": "9ccf726b",
   "metadata": {},
   "source": [
    "The ArithmeticError class in Python is the base class for exceptions related to arithmetic operations. It serves as the parent class for a variety of specific arithmetic-related exception classes. Here are two examples of errors defined in the ArithmeticError class:"
   ]
  },
  {
   "cell_type": "markdown",
   "id": "4b06e521",
   "metadata": {},
   "source": [
    "1. ZeroDivisionError: This error occurs when a program tries to divide a number by zero."
   ]
  },
  {
   "cell_type": "code",
   "execution_count": 1,
   "id": "8b46648a",
   "metadata": {},
   "outputs": [],
   "source": [
    "def divide_numbers(a, b):\n",
    "    try:\n",
    "        result = a / b\n",
    "        return result\n",
    "    except ZeroDivisionError:\n",
    "        print(\"Error: Division by zero!\")\n",
    "\n",
    "num1 = 10\n",
    "num2 = 0"
   ]
  },
  {
   "cell_type": "code",
   "execution_count": 2,
   "id": "b9b0a338",
   "metadata": {},
   "outputs": [
    {
     "name": "stdout",
     "output_type": "stream",
     "text": [
      "Error: Division by zero!\n",
      "Result: None\n"
     ]
    }
   ],
   "source": [
    "result = divide_numbers(num1, num2)\n",
    "print(\"Result:\", result)"
   ]
  },
  {
   "cell_type": "markdown",
   "id": "18353c21",
   "metadata": {},
   "source": [
    "2. OverflowError: This error occurs when the result of an arithmetic operation exceeds the maximum representable value."
   ]
  },
  {
   "cell_type": "code",
   "execution_count": 8,
   "id": "28f831ef",
   "metadata": {},
   "outputs": [],
   "source": [
    "def calculate_factorial(n):\n",
    "    try:\n",
    "        result = 1\n",
    "        for i in range(1, n + 1):\n",
    "            result *= i\n",
    "        return result\n",
    "    except OverflowError:\n",
    "        print(\"Error: Result exceeds maximum representable value.\")\n",
    "\n",
    "num = 1000"
   ]
  },
  {
   "cell_type": "code",
   "execution_count": null,
   "id": "49ba45df",
   "metadata": {},
   "outputs": [],
   "source": [
    "factorial = calculate_factorial(num)\n",
    "print(\"Factorial of\", num, \"is:\", factorial)"
   ]
  },
  {
   "cell_type": "markdown",
   "id": "a07708b9",
   "metadata": {},
   "source": [
    "."
   ]
  },
  {
   "cell_type": "markdown",
   "id": "dbe0e003",
   "metadata": {},
   "source": [
    "### Q4. Why LookupError class is used? Explain with an example KeyError and IndexError."
   ]
  },
  {
   "cell_type": "markdown",
   "id": "3f994262",
   "metadata": {},
   "source": [
    "The LookupError class in Python is the base class for exceptions related to lookup operations. It serves as the parent class for specific lookup-related exception classes. The LookupError class is useful when you want to catch exceptions that occur during lookup operations, such as indexing or dictionary key lookup. It provides a convenient way to handle these types of errors collectively."
   ]
  },
  {
   "cell_type": "markdown",
   "id": "59b846b1",
   "metadata": {},
   "source": [
    "Here are two examples of lookup-related exceptions derived from the LookupError class: KeyError and IndexError."
   ]
  },
  {
   "cell_type": "markdown",
   "id": "799685a6",
   "metadata": {},
   "source": [
    "1. KeyError: This exception occurs when a dictionary is accessed with a key that does not exist."
   ]
  },
  {
   "cell_type": "code",
   "execution_count": 11,
   "id": "fd2afb1c",
   "metadata": {},
   "outputs": [
    {
     "name": "stdout",
     "output_type": "stream",
     "text": [
      "Error: Key does not exist in the dictionary.\n"
     ]
    }
   ],
   "source": [
    "student_grades = {\"Alice\": 85, \"Bob\": 90, \"Charlie\": 75}\n",
    "\n",
    "try:\n",
    "    print(student_grades[\"Dave\"])  # Accessing a non-existent key\n",
    "except KeyError:\n",
    "    print(\"Error: Key does not exist in the dictionary.\")"
   ]
  },
  {
   "cell_type": "markdown",
   "id": "ef3fbc04",
   "metadata": {},
   "source": [
    "2. IndexError: This exception occurs when a sequence (such as a list or string) is accessed with an invalid index."
   ]
  },
  {
   "cell_type": "code",
   "execution_count": 13,
   "id": "d72011f6",
   "metadata": {},
   "outputs": [
    {
     "name": "stdout",
     "output_type": "stream",
     "text": [
      "Error: Index is out of range.\n"
     ]
    }
   ],
   "source": [
    "numbers = [1, 2, 3, 4, 5]\n",
    "\n",
    "try:\n",
    "    print(numbers[10])  # Accessing an index out of range\n",
    "except IndexError:\n",
    "    print(\"Error: Index is out of range.\")"
   ]
  },
  {
   "cell_type": "markdown",
   "id": "d7455093",
   "metadata": {},
   "source": [
    "."
   ]
  },
  {
   "cell_type": "markdown",
   "id": "5d1695ea",
   "metadata": {},
   "source": [
    "### Q5. Explain ImportError. What is ModuleNotFoundError?"
   ]
  },
  {
   "cell_type": "markdown",
   "id": "f91232bf",
   "metadata": {},
   "source": [
    "ImportError and ModuleNotFoundError are both exceptions in Python that occur when importing modules or packages. However, they differ in their specific use cases and behavior."
   ]
  },
  {
   "cell_type": "markdown",
   "id": "fc3ae22c",
   "metadata": {},
   "source": [
    "1. ImportError: This exception is raised when an imported module or package cannot be found or there is an error in the import statement."
   ]
  },
  {
   "cell_type": "markdown",
   "id": "c2f8973d",
   "metadata": {},
   "source": [
    "2. ModuleNotFoundError: This exception is a subclass of ImportError and was introduced in Python 3.6. It specifically indicates that the requested module or package could not be found."
   ]
  },
  {
   "cell_type": "markdown",
   "id": "d6b7e191",
   "metadata": {},
   "source": [
    "."
   ]
  },
  {
   "cell_type": "markdown",
   "id": "24519e9e",
   "metadata": {},
   "source": [
    "### Q6. List down some best practices for exception handling in python."
   ]
  },
  {
   "cell_type": "markdown",
   "id": "55493f95",
   "metadata": {},
   "source": [
    " there are several best practices to follow. These practices can help make your code more robust, maintainable, and readable. Here are some recommended best practices for exception handling in Python:"
   ]
  },
  {
   "cell_type": "markdown",
   "id": "19f5cb5e",
   "metadata": {},
   "source": [
    "1. Be specific in exception handling\n",
    "2. always avoid multiple except blocks\n",
    "3. Use finally block for cleanup\n",
    "4. Log or report exceptions\n",
    "5. Keep exception messages informative\n",
    "6. Document all the error\n",
    "7. cleanup all the resources"
   ]
  },
  {
   "cell_type": "code",
   "execution_count": null,
   "id": "8d3b027d",
   "metadata": {},
   "outputs": [],
   "source": []
  }
 ],
 "metadata": {
  "kernelspec": {
   "display_name": "Python 3 (ipykernel)",
   "language": "python",
   "name": "python3"
  },
  "language_info": {
   "codemirror_mode": {
    "name": "ipython",
    "version": 3
   },
   "file_extension": ".py",
   "mimetype": "text/x-python",
   "name": "python",
   "nbconvert_exporter": "python",
   "pygments_lexer": "ipython3",
   "version": "3.9.12"
  }
 },
 "nbformat": 4,
 "nbformat_minor": 5
}
