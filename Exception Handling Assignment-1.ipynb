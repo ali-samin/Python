{
 "cells": [
  {
   "cell_type": "markdown",
   "id": "646c0d89",
   "metadata": {},
   "source": [
    "### Q1. What is Exception in python? Write the difference between Exceptions and Syntax errors"
   ]
  },
  {
   "cell_type": "markdown",
   "id": "3dc30165",
   "metadata": {},
   "source": [
    "In Python, an exception is an event that occurs during the execution of a program that disrupts the normal flow of instructions. It is a way to handle errors or exceptional situations that may arise during the runtime of a program. When an exceptional situation occurs, an exception object is raised, and if not handled properly, it can cause the program to terminate."
   ]
  },
  {
   "cell_type": "markdown",
   "id": "13189a19",
   "metadata": {},
   "source": [
    "1. Division by zero: When a program tries to divide a number by zero, it raises a ZeroDivisionError exception.\n",
    "2. File not found: If a program tries to open a file that doesn't exist, it raises a FileNotFoundError exception.\n",
    "3. Invalid input: When a program expects certain input or data in a specific format but receives invalid input, it can raise a ValueError or TypeError exception, depending on the situation."
   ]
  },
  {
   "cell_type": "markdown",
   "id": "52f8a8f5",
   "metadata": {},
   "source": [
    "Exceptions: Exceptions are runtime errors that occur during the execution of a program. They are typically caused by exceptional conditions, such as invalid input, division by zero, or accessing a resource that is not available. Exceptions can be handled and recovered from within the program.\n",
    "\n",
    "Syntax Errors: Syntax errors, also known as parsing errors, occur before the program execution begins. They are caused by violations of the Python language syntax rules. Syntax errors indicate that the code is not properly written or structured, such as missing brackets, misspelled keywords, or incorrect indentation."
   ]
  },
  {
   "cell_type": "markdown",
   "id": "758bce4c",
   "metadata": {},
   "source": [
    "."
   ]
  },
  {
   "cell_type": "markdown",
   "id": "e213b885",
   "metadata": {},
   "source": [
    "### Q2. What happens when an exception is not handled? Explain with an example."
   ]
  },
  {
   "cell_type": "markdown",
   "id": "8299d2e1",
   "metadata": {},
   "source": [
    "When an exception is not handled in Python, it leads to an abnormal termination of the program. The default behavior is for the program to halt and display an error message that provides information about the unhandled exception, including the type of exception"
   ]
  },
  {
   "cell_type": "code",
   "execution_count": 3,
   "id": "31f74d1f",
   "metadata": {},
   "outputs": [
    {
     "ename": "ZeroDivisionError",
     "evalue": "division by zero",
     "output_type": "error",
     "traceback": [
      "\u001b[1;31m---------------------------------------------------------------------------\u001b[0m",
      "\u001b[1;31mZeroDivisionError\u001b[0m                         Traceback (most recent call last)",
      "Input \u001b[1;32mIn [3]\u001b[0m, in \u001b[0;36m<cell line: 6>\u001b[1;34m()\u001b[0m\n\u001b[0;32m      4\u001b[0m num1 \u001b[38;5;241m=\u001b[39m \u001b[38;5;241m10\u001b[39m\n\u001b[0;32m      5\u001b[0m num2 \u001b[38;5;241m=\u001b[39m \u001b[38;5;241m0\u001b[39m\n\u001b[1;32m----> 6\u001b[0m result \u001b[38;5;241m=\u001b[39m \u001b[43mdivide_fun\u001b[49m\u001b[43m(\u001b[49m\u001b[43mnum1\u001b[49m\u001b[43m,\u001b[49m\u001b[43mnum2\u001b[49m\u001b[43m)\u001b[49m\n\u001b[0;32m      7\u001b[0m result\n",
      "Input \u001b[1;32mIn [3]\u001b[0m, in \u001b[0;36mdivide_fun\u001b[1;34m(a, b)\u001b[0m\n\u001b[0;32m      1\u001b[0m \u001b[38;5;28;01mdef\u001b[39;00m \u001b[38;5;21mdivide_fun\u001b[39m(a,b):\n\u001b[1;32m----> 2\u001b[0m     result \u001b[38;5;241m=\u001b[39m \u001b[43ma\u001b[49m\u001b[38;5;241;43m/\u001b[39;49m\u001b[43mb\u001b[49m\n\u001b[0;32m      3\u001b[0m     \u001b[38;5;28;01mreturn\u001b[39;00m result\n",
      "\u001b[1;31mZeroDivisionError\u001b[0m: division by zero"
     ]
    }
   ],
   "source": [
    "def divide_fun(a,b):\n",
    "    result = a/b\n",
    "    return result\n",
    "num1 = 10\n",
    "num2 = 0\n",
    "result = divide_fun(num1,num2)\n",
    "result"
   ]
  },
  {
   "cell_type": "markdown",
   "id": "e969fa1d",
   "metadata": {},
   "source": [
    "In this example, the divide_numbers function is defined to divide two numbers. However, the second number (num2) is assigned a value of 0, which will raise a ZeroDivisionError when trying to perform the division.\n",
    "\n",
    "When the program is executed, the divide_fun function is called with num1 and num2. Since the division by zero is not handled explicitly, an unhandled exception occurs. As a result, the program halts, and the following error message is displayed"
   ]
  },
  {
   "cell_type": "markdown",
   "id": "1249097b",
   "metadata": {},
   "source": [
    "."
   ]
  },
  {
   "cell_type": "markdown",
   "id": "cb3522bf",
   "metadata": {},
   "source": [
    "### Q3. Which Python statements are used to catch and handle exceptions? Explain with an example"
   ]
  },
  {
   "cell_type": "markdown",
   "id": "db275970",
   "metadata": {},
   "source": [
    "In Python, the try and except statements are used to catch and handle exceptions. The try block is used to enclose the code that might raise an exception, and the except block is used to specify the actions to be taken when a particular exception occurs. Here's an example to demonstrate how to catch and handle exceptions:"
   ]
  },
  {
   "cell_type": "code",
   "execution_count": 5,
   "id": "94d67a76",
   "metadata": {},
   "outputs": [],
   "source": [
    "def divide_numbers(a, b):\n",
    "    try:\n",
    "        result = a / b\n",
    "        return result\n",
    "    except ZeroDivisionError:\n",
    "        print(\"Error: Division by zero!\")\n",
    "\n",
    "num1 = 10\n",
    "num2 = 0"
   ]
  },
  {
   "cell_type": "code",
   "execution_count": 7,
   "id": "549297b8",
   "metadata": {},
   "outputs": [
    {
     "name": "stdout",
     "output_type": "stream",
     "text": [
      "Error: Division by zero!\n",
      "Result: None\n"
     ]
    }
   ],
   "source": [
    "result = divide_numbers(num1, num2)\n",
    "print(\"Result:\", result)"
   ]
  },
  {
   "cell_type": "markdown",
   "id": "1f650bcf",
   "metadata": {},
   "source": [
    "."
   ]
  },
  {
   "cell_type": "markdown",
   "id": "0e95bedc",
   "metadata": {},
   "source": [
    "### Q4. Explain with an example: a. try and else,  b. finally, c. raise"
   ]
  },
  {
   "cell_type": "markdown",
   "id": "191aca28",
   "metadata": {},
   "source": [
    "a. The try and else statements are used together to catch exceptions and execute specific code when no exception occurs. The else block is optional and is executed if no exception is raised within the try block. \n",
    "Here's an example:"
   ]
  },
  {
   "cell_type": "code",
   "execution_count": 8,
   "id": "52b88c91",
   "metadata": {},
   "outputs": [],
   "source": [
    "def divide_numbers(a, b):\n",
    "    try:\n",
    "        result = a / b\n",
    "    except ZeroDivisionError:\n",
    "        print(\"Error: Division by zero!\")\n",
    "    else:\n",
    "        print(\"Division successful. Result:\", result)"
   ]
  },
  {
   "cell_type": "code",
   "execution_count": 9,
   "id": "a7a34444",
   "metadata": {},
   "outputs": [
    {
     "name": "stdout",
     "output_type": "stream",
     "text": [
      "Division successful. Result: 5.0\n"
     ]
    }
   ],
   "source": [
    "num1 = 10\n",
    "num2 = 2\n",
    "\n",
    "divide_numbers(num1, num2)"
   ]
  },
  {
   "cell_type": "markdown",
   "id": "9eed75cd",
   "metadata": {},
   "source": [
    "b. The finally statement is used to define a block of code that will be executed regardless of whether an exception occurs or not. It ensures that certain cleanup operations or necessary actions are performed, such as closing files or releasing resources. Here's an example:"
   ]
  },
  {
   "cell_type": "code",
   "execution_count": 15,
   "id": "ec0d08f8",
   "metadata": {},
   "outputs": [
    {
     "name": "stdout",
     "output_type": "stream",
     "text": [
      "[Errno 2] No such file or directory: 'test8.txt'\n",
      "Finally will execut itself in any situation\n"
     ]
    }
   ],
   "source": [
    "try:\n",
    "    with open(\"test8.txt\",\"r\") as f:\n",
    "        f.write(\"Write sommething\")\n",
    "except FileNotFoundError as e:\n",
    "    print(e)\n",
    "finally:\n",
    "    print(\"Finally will execut itself in any situation\")"
   ]
  },
  {
   "cell_type": "markdown",
   "id": "708acc46",
   "metadata": {},
   "source": [
    "c. The raise statement is used to manually raise exceptions in Python. It allows you to create and raise your own custom exceptions or re-raise existing exceptions. Here's an example:"
   ]
  },
  {
   "cell_type": "code",
   "execution_count": 19,
   "id": "8365212c",
   "metadata": {},
   "outputs": [],
   "source": [
    "def validate_age(age):\n",
    "    if age < 0:\n",
    "        raise ValueError(\"Invalid age: Age must be a positive number.\")\n",
    "    elif age > 120:\n",
    "        raise ValueError(\"Invalid age: Age exceeds maximum limit.\")\n",
    "    else:\n",
    "        print(\"Age is valid.\")"
   ]
  },
  {
   "cell_type": "code",
   "execution_count": 20,
   "id": "23a23c2d",
   "metadata": {},
   "outputs": [
    {
     "name": "stdout",
     "output_type": "stream",
     "text": [
      "Invalid age: Age must be a positive number.\n"
     ]
    }
   ],
   "source": [
    "try:\n",
    "    validate_age(-5)\n",
    "except ValueError as e:\n",
    "    print(e)"
   ]
  },
  {
   "cell_type": "markdown",
   "id": "d60b92b8",
   "metadata": {},
   "source": [
    "."
   ]
  },
  {
   "cell_type": "markdown",
   "id": "935cb41a",
   "metadata": {},
   "source": [
    "### Q5. What are Custom Exceptions in python? Why do we need Custom Exceptions? Explain with an example"
   ]
  },
  {
   "cell_type": "markdown",
   "id": "e5e43118",
   "metadata": {},
   "source": [
    "Custom exceptions, also known as user-defined exceptions, are exceptions that are created by the programmer to represent specific error conditions or exceptional situations in a Python program. By creating custom exceptions, developers can define their own hierarchy of exception classes tailored to their specific application or domain."
   ]
  },
  {
   "cell_type": "markdown",
   "id": "f01a25e9",
   "metadata": {},
   "source": [
    "Here's why custom exceptions are useful and why we might need them:\n",
    "\n",
    "1. Specific Error Handling: Custom exceptions allow for more granular and specific error handling. Instead of relying solely on built-in exceptions, custom exceptions can provide more descriptive and meaningful information about the exceptional situation that occurred.\n",
    "\n",
    "2. Code Readability and Maintainability: By creating custom exceptions, the code becomes more readable and self-explanatory. Custom exceptions provide a clear indication of the type of error being raised and make the code easier to understand and maintain.\n",
    "\n",
    "3. Application-Specific Logic: Custom exceptions enable developers to implement application-specific logic based on the raised exceptions. They can define specialized exception handling strategies and implement custom error messages or additional actions to be taken when those exceptions occur."
   ]
  },
  {
   "cell_type": "code",
   "execution_count": 22,
   "id": "540deb00",
   "metadata": {},
   "outputs": [
    {
     "name": "stdout",
     "output_type": "stream",
     "text": [
      "error Invalid email address spiderman87.com\n"
     ]
    }
   ],
   "source": [
    "class InvalidEmailError(Exception):\n",
    "    pass\n",
    "\n",
    "def send_mail(email,messange):\n",
    "    if '@' not in email:\n",
    "        raise InvalidEmailError(\"Invalid email address\" +email)\n",
    "    else:\n",
    "        print(\"Email sent to: \", email)\n",
    "        print(\"Message: \", message)\n",
    "        \n",
    "try:\n",
    "    recipient_mail = \" spiderman87.com\"\n",
    "    email_message = \"This is the message for Mr. Tony Stark\"\n",
    "    send_mail(recipient_mail,email_message)\n",
    "except InvalidEmailError as e:\n",
    "    print(\"error\", e)"
   ]
  },
  {
   "cell_type": "markdown",
   "id": "90163c65",
   "metadata": {},
   "source": [
    "."
   ]
  },
  {
   "cell_type": "markdown",
   "id": "23b57219",
   "metadata": {},
   "source": [
    "### Q6. Create a custom exception class. Use this class to handle an exception."
   ]
  },
  {
   "cell_type": "code",
   "execution_count": 23,
   "id": "fdcc012d",
   "metadata": {},
   "outputs": [
    {
     "name": "stdout",
     "output_type": "stream",
     "text": [
      "error Invalid email address spiderman87.com\n"
     ]
    }
   ],
   "source": [
    "class InvalidEmailError(Exception):\n",
    "    pass\n",
    "\n",
    "def send_mail(email,messange):\n",
    "    if '@' not in email:\n",
    "        raise InvalidEmailError(\"Invalid email address\" +email)\n",
    "    else:\n",
    "        print(\"Email sent to: \", email)\n",
    "        print(\"Message: \", message)\n",
    "        \n",
    "try:\n",
    "    recipient_mail = \" spiderman87.com\"\n",
    "    email_message = \"This is the message for Mr. Tony Stark\"\n",
    "    send_mail(recipient_mail,email_message)\n",
    "except InvalidEmailError as e:\n",
    "    print(\"error\", e)"
   ]
  },
  {
   "cell_type": "code",
   "execution_count": null,
   "id": "4298fa1b",
   "metadata": {},
   "outputs": [],
   "source": []
  }
 ],
 "metadata": {
  "kernelspec": {
   "display_name": "Python 3 (ipykernel)",
   "language": "python",
   "name": "python3"
  },
  "language_info": {
   "codemirror_mode": {
    "name": "ipython",
    "version": 3
   },
   "file_extension": ".py",
   "mimetype": "text/x-python",
   "name": "python",
   "nbconvert_exporter": "python",
   "pygments_lexer": "ipython3",
   "version": "3.9.12"
  }
 },
 "nbformat": 4,
 "nbformat_minor": 5
}
