{
 "cells": [
  {
   "cell_type": "markdown",
   "id": "3ff25a69",
   "metadata": {},
   "source": [
    "#### Q1. Explain the difference between simple linear regression and multiple linear regression. Provide an example of each."
   ]
  },
  {
   "cell_type": "markdown",
   "id": "3c83f883",
   "metadata": {},
   "source": [
    "\n",
    "Simple Linear Regression and Multiple Linear Regression are both types of linear regression models used to predict the value of a dependent variable based on one or more independent variables.\n",
    "\n",
    "1. Simple Linear Regression:\n",
    "Definition: Simple linear regression is a statistical method that models the relationship between a single independent variable (predictor) and a dependent variable (response). The relationship is assumed to be linear, meaning that the dependent variable changes at a constant rate with changes in the independent variabl.\n",
    "Example:\n",
    "Suppose we want to predict a person's height (𝑌) based on their weight (X). In this case, weight is the only predictor, and the relationship can be modeled using simple linear regression.\n",
    "\n",
    "2. Multiple Linear Regression:\n",
    "Definition: Multiple linear regression is an extension of simple linear regression that models the relationship between a dependent variable and multiple independent variables. It allows for the prediction of the dependent variable based on more than one predictor.\n",
    "Example:\n",
    "Suppose we want to predict a person's weight (Y) based on their height (𝑋), age (Z), and exercise frequency (U). In this case, we have multiple predictors, and the relationship can be modeled using multiple linear regression."
   ]
  },
  {
   "cell_type": "markdown",
   "id": "85d5eb0a",
   "metadata": {},
   "source": [
    "."
   ]
  },
  {
   "cell_type": "markdown",
   "id": "f3fec294",
   "metadata": {},
   "source": [
    "#### Q2. Discuss the assumptions of linear regression. How can you check whether these assumptions hold in a given dataset?"
   ]
  },
  {
   "cell_type": "markdown",
   "id": "e7c0b649",
   "metadata": {},
   "source": [
    "Linearity:\n",
    "\n",
    "The relationship between the independent variables and the dependent variable is linear. This means that the change in the dependent variable is proportional to the change in the independent variables. we can check it by plotting the scatter plot\n",
    "\n",
    "No Multicollinearity: Independent variables shouldn’t be too highly correlated with each other. we can check it by: Variance correlation matrix\n"
   ]
  },
  {
   "cell_type": "markdown",
   "id": "e6c52cad",
   "metadata": {},
   "source": [
    "."
   ]
  },
  {
   "cell_type": "markdown",
   "id": "0b735bb0",
   "metadata": {},
   "source": [
    "#### Q3. How do you interpret the slope and intercept in a linear regression model? Provide an example using a real-world scenario."
   ]
  },
  {
   "cell_type": "markdown",
   "id": "52e8968b",
   "metadata": {},
   "source": [
    "Slope:\n",
    "Change in the dependent variable(Y) for each one-unit increase in the independent variable(X).\n",
    "Example: If the slope is 2,000 in a salary prediction model, each additional year of experience increases salary by $2,000.\n",
    "Slope: Rate of change.\n",
    "\n",
    "Intercept ():\n",
    "Definition: The value of the dependent variable (Y) when the independent variable (X) is zero.\n",
    "Example: If the intercept is 35,000, the starting salary (with 0 years of experience) is $35,000.\n",
    "Intercept: Starting point.\n"
   ]
  },
  {
   "cell_type": "markdown",
   "id": "1d269bf8",
   "metadata": {},
   "source": [
    "."
   ]
  },
  {
   "cell_type": "markdown",
   "id": "b7c7fe1f",
   "metadata": {},
   "source": [
    "#### Q4. Explain the concept of gradient descent. How is it used in machine learning?"
   ]
  },
  {
   "cell_type": "markdown",
   "id": "8210376c",
   "metadata": {},
   "source": [
    "\n",
    "Gradient Descent:\n",
    "Concept: Gradient descent is an optimization algorithm used to minimize the cost function (or loss function) of a machine learning model. The cost function measures how far off the model's predictions are from the actual values. Gradient descent iteratively adjusts the model's parameters (like weights in a neural network) to find the values that minimize this cost.\n",
    "\n",
    "Use in Machine Learning:\n",
    "Training Models: Gradient descent is widely used to optimize parameters in various machine learning models, including linear regression, logistic regression, and neural networks."
   ]
  },
  {
   "cell_type": "markdown",
   "id": "c2f1c2dc",
   "metadata": {},
   "source": [
    "."
   ]
  },
  {
   "cell_type": "markdown",
   "id": "68322d52",
   "metadata": {},
   "source": [
    "#### Q5. Describe the multiple linear regression model. How does it differ from simple linear regression?"
   ]
  },
  {
   "cell_type": "markdown",
   "id": "7484b43b",
   "metadata": {},
   "source": [
    "\n",
    "Multiple Linear Regression:\n",
    "Concept: Multiple linear regression models the relationship between one dependent variable and two or more independent variables. It extends the simple linear regression by considering multiple factors simultaneously.\n",
    "\n",
    "Difference\n",
    "\n",
    "Simple Linear Regression:\n",
    "One independent variable.\n",
    "Simpler model, easier to interpret.\n",
    "\n",
    "Multiple Linear Regression: \n",
    "Two or more independent variables.\n",
    "More complex, accounts for the influence of multiple factors."
   ]
  },
  {
   "cell_type": "markdown",
   "id": "91a54aeb",
   "metadata": {},
   "source": [
    "."
   ]
  },
  {
   "cell_type": "markdown",
   "id": "0c1cce80",
   "metadata": {},
   "source": [
    "#### Q6. Explain the concept of multicollinearity in multiple linear regression. How can you detect and address this issue?"
   ]
  },
  {
   "cell_type": "markdown",
   "id": "8ba5be1e",
   "metadata": {},
   "source": [
    "\n",
    "Multicollinearity in Multiple Linear Regression:\n",
    "Concept: Multicollinearity occurs when two or more independent variables in a multiple linear regression model are highly correlated. This means that one independent variable can be linearly predicted from the others with a substantial degree of accuracy.\n",
    "\n",
    "To detect multicollinearity, examining the correlation matrix of the independent variables can reveal high correlations (e.g., above 0.8) between pairs of variables, suggesting multicollinearity.\n",
    "\n",
    "To address multicollinearity, we can take several approaches. One method is to remove one of the correlated variables from the model, reducing redundancy. Applying Principal Component Analysis (PCA) can transform the correlated variables into a set of uncorrelated components that can be used in the regression model."
   ]
  },
  {
   "cell_type": "markdown",
   "id": "e4b7e54d",
   "metadata": {},
   "source": [
    "."
   ]
  },
  {
   "cell_type": "markdown",
   "id": "bdbd49d0",
   "metadata": {},
   "source": [
    "#### Q7. Describe the polynomial regression model. How is it different from linear regression?"
   ]
  },
  {
   "cell_type": "markdown",
   "id": "6c7df251",
   "metadata": {},
   "source": [
    "\n",
    "Polynomial Regression:\n",
    "Concept: Polynomial regression is an extension of linear regression that models the relationship between the independent variable and the dependent variable as an nth-degree polynomial. It allows for capturing more complex, nonlinear relationships between variables.\n",
    "\n",
    "Differences\n",
    "\n",
    "Linear Regression: Assumes a linear relationship between the independent variable 𝑋 and the dependent variable 𝑌. The relationship is described by a straight line.\n",
    "Polynomial Regression: Allows for a nonlinear relationship by including polynomial terms in the model. The relationship can be represented by a curve."
   ]
  },
  {
   "cell_type": "markdown",
   "id": "6b161daa",
   "metadata": {},
   "source": [
    "."
   ]
  },
  {
   "cell_type": "markdown",
   "id": "b48c016d",
   "metadata": {},
   "source": [
    "#### Q8. What are the advantages and disadvantages of polynomial regression compared to linear regression? In what situations would you prefer to use polynomial regression?"
   ]
  },
  {
   "cell_type": "markdown",
   "id": "70f6e931",
   "metadata": {},
   "source": [
    "Advantage:\n",
    "Polynomial regression can model complex, nonlinear relationships between variables, which linear regression cannot. This allows for a better fit when the relationship between the independent and dependent variables is curved.\n",
    "By adding polynomial terms polynomial regression can fit a wide range of curves, making it more adaptable to different types of data.\n",
    "Polynomial regression can provide a better fit to the data if the true relationship is nonlinear, leading to potentially more accurate predictions.\n",
    "\n",
    "Disadvantages:\n",
    "Higher-degree polynomials can lead to overfitting\n",
    "Polynomial regression models become more complex with higher degrees, making them harder to interpret. The increased complexity can also lead to computational challenges and longer training times.\n",
    "ay produce unrealistic predictions outside the training data range.\n",
    "\n",
    "When to Use Polynomial Regression:\n",
    "Use polynomial regression when the relationship between the independent and dependent variables is clearly nonlinear. For example, if data shows a quadratic or cubic pattern, polynomial regression can capture these curves.\n",
    "When linear regression fails to provide a good fit and residuals show patterns indicating a nonlinear relationship, polynomial regression can improve the model’s performance.\n"
   ]
  },
  {
   "cell_type": "code",
   "execution_count": null,
   "id": "922d3f91",
   "metadata": {},
   "outputs": [],
   "source": []
  }
 ],
 "metadata": {
  "kernelspec": {
   "display_name": "Python 3 (ipykernel)",
   "language": "python",
   "name": "python3"
  },
  "language_info": {
   "codemirror_mode": {
    "name": "ipython",
    "version": 3
   },
   "file_extension": ".py",
   "mimetype": "text/x-python",
   "name": "python",
   "nbconvert_exporter": "python",
   "pygments_lexer": "ipython3",
   "version": "3.11.4"
  }
 },
 "nbformat": 4,
 "nbformat_minor": 5
}
