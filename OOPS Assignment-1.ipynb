{
 "cells": [
  {
   "cell_type": "markdown",
   "id": "ec16cbac",
   "metadata": {},
   "source": [
    "### Q1. Explain Class and Object with respect to Object-Oriented Programming. Give a suitable example."
   ]
  },
  {
   "cell_type": "markdown",
   "id": "0b0145dd",
   "metadata": {},
   "source": [
    "In object-oriented programming (OOP), a class is a blueprint or a template for creating objects. It defines the properties (attributes) and behaviors (methods) that objects of that class will have. In simpler terms, a class is a way to define a new data type.\n",
    "\n",
    "An object, on the other hand, is an instance of a class. It is created using the blueprint provided by the class. An object has its own unique state (values of its attributes) and can perform actions (methods) defined by the class."
   ]
  },
  {
   "cell_type": "code",
   "execution_count": 3,
   "id": "d3016585",
   "metadata": {},
   "outputs": [],
   "source": [
    "class Circle:\n",
    "    def __init__(self, radius):\n",
    "        self.radius = radius\n",
    "\n",
    "    def calculate_area(self):\n",
    "        return 3.14 * (self.radius ** 2)"
   ]
  },
  {
   "cell_type": "code",
   "execution_count": 6,
   "id": "e73cfd95",
   "metadata": {},
   "outputs": [],
   "source": [
    "circle1 = Circle(5)"
   ]
  },
  {
   "cell_type": "code",
   "execution_count": 7,
   "id": "2c81ce7c",
   "metadata": {},
   "outputs": [
    {
     "data": {
      "text/plain": [
       "5"
      ]
     },
     "execution_count": 7,
     "metadata": {},
     "output_type": "execute_result"
    }
   ],
   "source": [
    "circle1.radius"
   ]
  },
  {
   "cell_type": "code",
   "execution_count": 8,
   "id": "1ed1c298",
   "metadata": {},
   "outputs": [],
   "source": [
    "circle2 = Circle(3)"
   ]
  },
  {
   "cell_type": "code",
   "execution_count": 10,
   "id": "7927838f",
   "metadata": {},
   "outputs": [
    {
     "data": {
      "text/plain": [
       "28.26"
      ]
     },
     "execution_count": 10,
     "metadata": {},
     "output_type": "execute_result"
    }
   ],
   "source": [
    "circle2.calculate_area()"
   ]
  },
  {
   "cell_type": "markdown",
   "id": "7edf6d5e",
   "metadata": {},
   "source": [
    "."
   ]
  },
  {
   "cell_type": "markdown",
   "id": "5f8fea48",
   "metadata": {},
   "source": [
    "### Q2. Name the four pillars of OOPs."
   ]
  },
  {
   "cell_type": "markdown",
   "id": "02edc5f0",
   "metadata": {},
   "source": [
    "\n",
    "The four pillars of object-oriented programming (OOP) are:\n",
    "1. Encapsulation: Encapsulation is the bundling of data (attributes) and methods (functions) within a class, hiding the internal details and providing a public interface for interaction.\n",
    "\n",
    "2. Inheritance: Inheritance enables a class to inherit properties (attributes and methods) from another class, promoting code reusability and creating hierarchical relationships between classes.\n",
    "\n",
    "3. Polymorphism: Polymorphism allows objects of different classes to be treated as objects of a common superclass, providing a unified interface, and supporting method overriding and method overloading.\n",
    "\n",
    "4. Abstraction: Abstraction focuses on capturing essential features of objects while hiding unnecessary details, facilitating code modularity, reusability, and creating abstract classes or interfaces for a group of related objects."
   ]
  },
  {
   "cell_type": "markdown",
   "id": "8e5131ff",
   "metadata": {},
   "source": [
    "."
   ]
  },
  {
   "cell_type": "markdown",
   "id": "9f3ad816",
   "metadata": {},
   "source": [
    "### Q3. Explain why the __init__() function is used. Give a suitable example."
   ]
  },
  {
   "cell_type": "markdown",
   "id": "5037df38",
   "metadata": {},
   "source": [
    "\n",
    "The __init__() function, also known as the constructor, is used in object-oriented programming to initialize the attributes of an object when it is created. It is automatically called when an object is instantiated from a class. The primary purpose of __init__() is to set the initial state of the object by assigning values to its attributes."
   ]
  },
  {
   "cell_type": "code",
   "execution_count": 11,
   "id": "30152e61",
   "metadata": {},
   "outputs": [],
   "source": [
    "# example:\n",
    "class Person:\n",
    "    def __init__(self, name, age):\n",
    "        self.name = name\n",
    "        self.age = age\n",
    "\n",
    "    def display_info(self):\n",
    "        print(f\"Name: {self.name}, Age: {self.age}\")"
   ]
  },
  {
   "cell_type": "code",
   "execution_count": 12,
   "id": "4d53d309",
   "metadata": {},
   "outputs": [],
   "source": [
    "person1 = Person(\"John\", 25)"
   ]
  },
  {
   "cell_type": "code",
   "execution_count": 13,
   "id": "ef399bb6",
   "metadata": {},
   "outputs": [
    {
     "name": "stdout",
     "output_type": "stream",
     "text": [
      "Name: John, Age: 25\n"
     ]
    }
   ],
   "source": [
    "person1.display_info()"
   ]
  },
  {
   "cell_type": "markdown",
   "id": "a48ad7fd",
   "metadata": {},
   "source": [
    "."
   ]
  },
  {
   "cell_type": "markdown",
   "id": "fa8aef69",
   "metadata": {},
   "source": [
    "### Q4. Why self is used in OOPs?"
   ]
  },
  {
   "cell_type": "markdown",
   "id": "7c0bfca4",
   "metadata": {},
   "source": [
    "\n",
    "In object-oriented programming (OOP), self is used as a reference to the instance of a class. It is a convention in Python, to name the first parameter of instance methods as self.\n",
    "\n",
    "The use of self is important because it allows you to access the attributes and methods of the object within its own class. When a method is called on an object, self implicitly refers to that particular instance of the class. It allows you to differentiate between the attributes and methods of different instances of the same class."
   ]
  },
  {
   "cell_type": "markdown",
   "id": "6373615e",
   "metadata": {},
   "source": [
    "."
   ]
  },
  {
   "cell_type": "markdown",
   "id": "bed5dd2b",
   "metadata": {},
   "source": [
    "### Q5. What is inheritance? Give an example for each type of inheritance."
   ]
  },
  {
   "cell_type": "markdown",
   "id": "12cc77b5",
   "metadata": {},
   "source": [
    "Inheritance is a fundamental concept in object-oriented programming (OOP) that allows a class to inherit properties and behaviors from another class. The class that inherits the properties is called the derived class or subclass, and the class from which the properties are inherited is called the base class or superclass. Inheritance promotes code reusability and facilitates the creation of hierarchical relationships between classes."
   ]
  },
  {
   "cell_type": "markdown",
   "id": "10cc08b6",
   "metadata": {},
   "source": [
    "There are different types of inheritance:\n",
    "\n",
    "1. Single Inheritance: Single inheritance involves a subclass inheriting from a single superclass. It is the simplest form of inheritance.\n",
    "2. Multiple Inheritance: Multiple inheritance involves a subclass inheriting from multiple superclasses. It allows a class to inherit properties and behaviors from more than one class.\n",
    "3. Multilevel Inheritance: Multilevel inheritance involves a subclass inheriting from another subclass, forming a hierarchy of classes."
   ]
  },
  {
   "cell_type": "markdown",
   "id": "8f45ee0d",
   "metadata": {},
   "source": [
    "Single Inheritance:"
   ]
  },
  {
   "cell_type": "code",
   "execution_count": 19,
   "id": "0775f11a",
   "metadata": {},
   "outputs": [],
   "source": [
    "class Vehicle:\n",
    "    def move(self):\n",
    "        print(\"Vehicle is moving.\")\n",
    "\n",
    "class Car(Vehicle):\n",
    "    def start(self):\n",
    "        print(\"Car started.\")"
   ]
  },
  {
   "cell_type": "code",
   "execution_count": 20,
   "id": "b159b086",
   "metadata": {},
   "outputs": [],
   "source": [
    "car = Car()"
   ]
  },
  {
   "cell_type": "code",
   "execution_count": 21,
   "id": "c0f5ff15",
   "metadata": {},
   "outputs": [
    {
     "name": "stdout",
     "output_type": "stream",
     "text": [
      "Car started.\n"
     ]
    }
   ],
   "source": [
    "car.start()"
   ]
  },
  {
   "cell_type": "code",
   "execution_count": 22,
   "id": "44252bc4",
   "metadata": {},
   "outputs": [
    {
     "name": "stdout",
     "output_type": "stream",
     "text": [
      "Vehicle is moving.\n"
     ]
    }
   ],
   "source": [
    "car.move()"
   ]
  },
  {
   "cell_type": "markdown",
   "id": "a892045c",
   "metadata": {},
   "source": [
    "Multiple Inheritance:"
   ]
  },
  {
   "cell_type": "code",
   "execution_count": 23,
   "id": "9b80daf0",
   "metadata": {},
   "outputs": [],
   "source": [
    "class Animal:\n",
    "    def breathe(self):\n",
    "        print(\"Animal is breathing.\")\n",
    "\n",
    "class Mammal:\n",
    "    def feed_milk(self):\n",
    "        print(\"Mammal is feeding milk.\")\n",
    "\n",
    "class Dog(Animal, Mammal):\n",
    "    def bark(self):\n",
    "        print(\"Dog is barking.\")"
   ]
  },
  {
   "cell_type": "code",
   "execution_count": 24,
   "id": "6ead5929",
   "metadata": {},
   "outputs": [],
   "source": [
    "dog = Dog()"
   ]
  },
  {
   "cell_type": "code",
   "execution_count": 25,
   "id": "d1f02c8c",
   "metadata": {},
   "outputs": [
    {
     "name": "stdout",
     "output_type": "stream",
     "text": [
      "Dog is barking.\n"
     ]
    }
   ],
   "source": [
    "dog.bark()"
   ]
  },
  {
   "cell_type": "code",
   "execution_count": 26,
   "id": "95f950e5",
   "metadata": {},
   "outputs": [
    {
     "name": "stdout",
     "output_type": "stream",
     "text": [
      "Animal is breathing.\n"
     ]
    }
   ],
   "source": [
    "dog.breathe()"
   ]
  },
  {
   "cell_type": "code",
   "execution_count": 28,
   "id": "663b3c68",
   "metadata": {},
   "outputs": [
    {
     "name": "stdout",
     "output_type": "stream",
     "text": [
      "Mammal is feeding milk.\n"
     ]
    }
   ],
   "source": [
    "dog.feed_milk()"
   ]
  },
  {
   "cell_type": "markdown",
   "id": "c84c63d9",
   "metadata": {},
   "source": [
    "Multilevel Inheritance:"
   ]
  },
  {
   "cell_type": "code",
   "execution_count": 29,
   "id": "6dc93cd4",
   "metadata": {},
   "outputs": [],
   "source": [
    "class Vehicle:\n",
    "    def move(self):\n",
    "        print(\"Vehicle is moving.\")\n",
    "\n",
    "class Car(Vehicle):\n",
    "    def start(self):\n",
    "        print(\"Car started.\")\n",
    "\n",
    "class SportsCar(Car):\n",
    "    def accelerate(self):\n",
    "        print(\"Sports car is accelerating.\")"
   ]
  },
  {
   "cell_type": "code",
   "execution_count": 30,
   "id": "1313c477",
   "metadata": {},
   "outputs": [],
   "source": [
    "sports_car = SportsCar()"
   ]
  },
  {
   "cell_type": "code",
   "execution_count": 35,
   "id": "48d646fb",
   "metadata": {},
   "outputs": [
    {
     "name": "stdout",
     "output_type": "stream",
     "text": [
      "Car started.\n"
     ]
    }
   ],
   "source": [
    "sports_car.start()"
   ]
  },
  {
   "cell_type": "code",
   "execution_count": 37,
   "id": "d9727fb2",
   "metadata": {},
   "outputs": [
    {
     "name": "stdout",
     "output_type": "stream",
     "text": [
      "Sports car is accelerating.\n"
     ]
    }
   ],
   "source": [
    "sports_car.accelerate()"
   ]
  },
  {
   "cell_type": "code",
   "execution_count": 38,
   "id": "f1e67776",
   "metadata": {},
   "outputs": [
    {
     "name": "stdout",
     "output_type": "stream",
     "text": [
      "Vehicle is moving.\n"
     ]
    }
   ],
   "source": [
    "sports_car.move()"
   ]
  }
 ],
 "metadata": {
  "kernelspec": {
   "display_name": "Python 3 (ipykernel)",
   "language": "python",
   "name": "python3"
  },
  "language_info": {
   "codemirror_mode": {
    "name": "ipython",
    "version": 3
   },
   "file_extension": ".py",
   "mimetype": "text/x-python",
   "name": "python",
   "nbconvert_exporter": "python",
   "pygments_lexer": "ipython3",
   "version": "3.9.12"
  }
 },
 "nbformat": 4,
 "nbformat_minor": 5
}
